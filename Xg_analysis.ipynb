{
 "cells": [
  {
   "cell_type": "code",
   "execution_count": 2,
   "metadata": {},
   "outputs": [],
   "source": [
    "import os\n",
    "import csv\n",
    "import pandas as pd\n",
    "import numpy as np\n",
    "from kloppy import statsbomb\n",
    "from mplsoccer.pitch import Pitch\n",
    "import matplotlib.pyplot as plt\n",
    "from src.Preprocess_events import preprocess_event"
   ]
  },
  {
   "attachments": {},
   "cell_type": "markdown",
   "metadata": {},
   "source": [
    "### Check the competition id from statsboomb \n",
    "#### Big leagues data\n",
    "- Laliga\n",
    "- Premier League\n",
    "- Bundesliga\n",
    "- Serie A\n",
    "- Champions League"
   ]
  },
  {
   "cell_type": "code",
   "execution_count": 3,
   "metadata": {},
   "outputs": [],
   "source": [
    "competitions = pd.read_json(\"https://raw.githubusercontent.com/statsbomb/open-data/master/data/competitions.json\")\n",
    "competition_dict = {competitions.loc[i, 'competition_id'] : competitions.loc[i, 'competition_name']  for i in range(len(competitions))}\n",
    "competition_dict\n",
    "\n",
    "selected_competitions = ['La Liga', 'Premier League', '1. Bundesliga', 'Serie A', 'Champions League']\n",
    "competition_list  = list(set(competitions[competitions.competition_name.isin(selected_competitions)].competition_id))"
   ]
  },
  {
   "attachments": {},
   "cell_type": "markdown",
   "metadata": {},
   "source": [
    "### Preprocessing event dataset"
   ]
  },
  {
   "cell_type": "code",
   "execution_count": 4,
   "metadata": {},
   "outputs": [
    {
     "data": {
      "text/plain": [
       "[2, 9, 11, 12, 16]"
      ]
     },
     "execution_count": 4,
     "metadata": {},
     "output_type": "execute_result"
    }
   ],
   "source": [
    "competition_list"
   ]
  },
  {
   "cell_type": "code",
   "execution_count": 5,
   "metadata": {},
   "outputs": [
    {
     "name": "stderr",
     "output_type": "stream",
     "text": [
      "La Liga: 100%|██████████| 868/868 [13:16<00:00,  1.09it/s]\n"
     ]
    },
    {
     "name": "stdout",
     "output_type": "stream",
     "text": [
      "La Liga_dataset.csv 저장완료\n"
     ]
    },
    {
     "name": "stderr",
     "output_type": "stream",
     "text": [
      "Serie A: 100%|██████████| 381/381 [13:08<00:00,  2.07s/it]\n"
     ]
    },
    {
     "name": "stdout",
     "output_type": "stream",
     "text": [
      "Serie A_dataset.csv 저장완료\n"
     ]
    },
    {
     "name": "stderr",
     "output_type": "stream",
     "text": [
      "Champions League: 100%|██████████| 17/17 [00:13<00:00,  1.25it/s]"
     ]
    },
    {
     "name": "stdout",
     "output_type": "stream",
     "text": [
      "Champions League_dataset.csv 저장완료\n"
     ]
    },
    {
     "name": "stderr",
     "output_type": "stream",
     "text": [
      "\n"
     ]
    }
   ],
   "source": [
    "preprocess_event(competition_list, eventtype = ['pass', 'shot'])"
   ]
  },
  {
   "cell_type": "code",
   "execution_count": 5,
   "metadata": {},
   "outputs": [],
   "source": [
    "csv_lis = os.listdir('./data/traindataset/')"
   ]
  },
  {
   "cell_type": "code",
   "execution_count": 6,
   "metadata": {},
   "outputs": [],
   "source": [
    "csv_list = []\n",
    "for i in csv_lis:\n",
    "    t_df = pd.read_csv('./data/traindataset/{}'.format(i))\n",
    "    csv_list.append(t_df)"
   ]
  },
  {
   "cell_type": "code",
   "execution_count": 7,
   "metadata": {},
   "outputs": [],
   "source": [
    "df = pd.concat(csv_list)"
   ]
  },
  {
   "cell_type": "code",
   "execution_count": 8,
   "metadata": {},
   "outputs": [
    {
     "data": {
      "text/html": [
       "<div>\n",
       "<style scoped>\n",
       "    .dataframe tbody tr th:only-of-type {\n",
       "        vertical-align: middle;\n",
       "    }\n",
       "\n",
       "    .dataframe tbody tr th {\n",
       "        vertical-align: top;\n",
       "    }\n",
       "\n",
       "    .dataframe thead th {\n",
       "        text-align: right;\n",
       "    }\n",
       "</style>\n",
       "<table border=\"1\" class=\"dataframe\">\n",
       "  <thead>\n",
       "    <tr style=\"text-align: right;\">\n",
       "      <th></th>\n",
       "      <th>Unnamed: 0</th>\n",
       "      <th>event_id</th>\n",
       "      <th>event_type</th>\n",
       "      <th>result</th>\n",
       "      <th>success</th>\n",
       "      <th>period_id</th>\n",
       "      <th>timestamp</th>\n",
       "      <th>end_timestamp</th>\n",
       "      <th>ball_state</th>\n",
       "      <th>ball_owning_team</th>\n",
       "      <th>team_id</th>\n",
       "      <th>player_id</th>\n",
       "      <th>coordinates_x</th>\n",
       "      <th>coordinates_y</th>\n",
       "      <th>end_coordinates_x</th>\n",
       "      <th>end_coordinates_y</th>\n",
       "      <th>receiver_player_id</th>\n",
       "      <th>set_piece_type</th>\n",
       "      <th>body_part_type</th>\n",
       "      <th>pass_type</th>\n",
       "    </tr>\n",
       "  </thead>\n",
       "  <tbody>\n",
       "    <tr>\n",
       "      <th>0</th>\n",
       "      <td>0</td>\n",
       "      <td>644e16d7-10ca-45f0-8128-fc0055d6f753</td>\n",
       "      <td>PASS</td>\n",
       "      <td>COMPLETE</td>\n",
       "      <td>True</td>\n",
       "      <td>1</td>\n",
       "      <td>0.482</td>\n",
       "      <td>0.935238</td>\n",
       "      <td>alive</td>\n",
       "      <td>Hoffenheim</td>\n",
       "      <td>Hoffenheim</td>\n",
       "      <td>Mark Uth</td>\n",
       "      <td>60.95</td>\n",
       "      <td>40.05</td>\n",
       "      <td>60.15</td>\n",
       "      <td>37.85</td>\n",
       "      <td>5460.0</td>\n",
       "      <td>KICK_OFF</td>\n",
       "      <td>LEFT_FOOT</td>\n",
       "      <td>NaN</td>\n",
       "    </tr>\n",
       "    <tr>\n",
       "      <th>1</th>\n",
       "      <td>1</td>\n",
       "      <td>77e2ddaf-6de3-49e7-a318-7d765799b543</td>\n",
       "      <td>PASS</td>\n",
       "      <td>COMPLETE</td>\n",
       "      <td>True</td>\n",
       "      <td>1</td>\n",
       "      <td>1.015</td>\n",
       "      <td>2.166865</td>\n",
       "      <td>alive</td>\n",
       "      <td>Hoffenheim</td>\n",
       "      <td>Hoffenheim</td>\n",
       "      <td>Andrej Kramarić</td>\n",
       "      <td>59.35</td>\n",
       "      <td>38.25</td>\n",
       "      <td>53.85</td>\n",
       "      <td>42.05</td>\n",
       "      <td>6039.0</td>\n",
       "      <td>NaN</td>\n",
       "      <td>LEFT_FOOT</td>\n",
       "      <td>NaN</td>\n",
       "    </tr>\n",
       "    <tr>\n",
       "      <th>2</th>\n",
       "      <td>2</td>\n",
       "      <td>2c51f271-c812-45af-896b-06f49a14a5bb</td>\n",
       "      <td>PASS</td>\n",
       "      <td>COMPLETE</td>\n",
       "      <td>True</td>\n",
       "      <td>1</td>\n",
       "      <td>2.954</td>\n",
       "      <td>4.343406</td>\n",
       "      <td>alive</td>\n",
       "      <td>Hoffenheim</td>\n",
       "      <td>Hoffenheim</td>\n",
       "      <td>Sebastian Rudy</td>\n",
       "      <td>52.25</td>\n",
       "      <td>45.15</td>\n",
       "      <td>34.25</td>\n",
       "      <td>61.95</td>\n",
       "      <td>5537.0</td>\n",
       "      <td>NaN</td>\n",
       "      <td>RIGHT_FOOT</td>\n",
       "      <td>NaN</td>\n",
       "    </tr>\n",
       "    <tr>\n",
       "      <th>3</th>\n",
       "      <td>3</td>\n",
       "      <td>8b29246d-1d69-4f01-abe1-91c22e308620</td>\n",
       "      <td>PASS</td>\n",
       "      <td>COMPLETE</td>\n",
       "      <td>True</td>\n",
       "      <td>1</td>\n",
       "      <td>5.894</td>\n",
       "      <td>8.451696</td>\n",
       "      <td>alive</td>\n",
       "      <td>Hoffenheim</td>\n",
       "      <td>Hoffenheim</td>\n",
       "      <td>Fabian Lukas Schär</td>\n",
       "      <td>34.25</td>\n",
       "      <td>61.85</td>\n",
       "      <td>37.45</td>\n",
       "      <td>23.65</td>\n",
       "      <td>12321.0</td>\n",
       "      <td>NaN</td>\n",
       "      <td>RIGHT_FOOT</td>\n",
       "      <td>LONG_BALL</td>\n",
       "    </tr>\n",
       "    <tr>\n",
       "      <th>4</th>\n",
       "      <td>4</td>\n",
       "      <td>ed35929b-31b4-42bf-8b54-2db442ce478f</td>\n",
       "      <td>PASS</td>\n",
       "      <td>COMPLETE</td>\n",
       "      <td>True</td>\n",
       "      <td>1</td>\n",
       "      <td>10.652</td>\n",
       "      <td>12.069774</td>\n",
       "      <td>alive</td>\n",
       "      <td>Hoffenheim</td>\n",
       "      <td>Hoffenheim</td>\n",
       "      <td>Tobias Strobl</td>\n",
       "      <td>38.45</td>\n",
       "      <td>22.15</td>\n",
       "      <td>36.65</td>\n",
       "      <td>35.45</td>\n",
       "      <td>9396.0</td>\n",
       "      <td>NaN</td>\n",
       "      <td>RIGHT_FOOT</td>\n",
       "      <td>NaN</td>\n",
       "    </tr>\n",
       "  </tbody>\n",
       "</table>\n",
       "</div>"
      ],
      "text/plain": [
       "   Unnamed: 0                              event_id event_type    result  \\\n",
       "0           0  644e16d7-10ca-45f0-8128-fc0055d6f753       PASS  COMPLETE   \n",
       "1           1  77e2ddaf-6de3-49e7-a318-7d765799b543       PASS  COMPLETE   \n",
       "2           2  2c51f271-c812-45af-896b-06f49a14a5bb       PASS  COMPLETE   \n",
       "3           3  8b29246d-1d69-4f01-abe1-91c22e308620       PASS  COMPLETE   \n",
       "4           4  ed35929b-31b4-42bf-8b54-2db442ce478f       PASS  COMPLETE   \n",
       "\n",
       "  success  period_id  timestamp  end_timestamp ball_state ball_owning_team  \\\n",
       "0    True          1      0.482       0.935238      alive       Hoffenheim   \n",
       "1    True          1      1.015       2.166865      alive       Hoffenheim   \n",
       "2    True          1      2.954       4.343406      alive       Hoffenheim   \n",
       "3    True          1      5.894       8.451696      alive       Hoffenheim   \n",
       "4    True          1     10.652      12.069774      alive       Hoffenheim   \n",
       "\n",
       "      team_id           player_id  coordinates_x  coordinates_y  \\\n",
       "0  Hoffenheim            Mark Uth          60.95          40.05   \n",
       "1  Hoffenheim     Andrej Kramarić          59.35          38.25   \n",
       "2  Hoffenheim      Sebastian Rudy          52.25          45.15   \n",
       "3  Hoffenheim  Fabian Lukas Schär          34.25          61.85   \n",
       "4  Hoffenheim       Tobias Strobl          38.45          22.15   \n",
       "\n",
       "   end_coordinates_x  end_coordinates_y  receiver_player_id set_piece_type  \\\n",
       "0              60.15              37.85              5460.0       KICK_OFF   \n",
       "1              53.85              42.05              6039.0            NaN   \n",
       "2              34.25              61.95              5537.0            NaN   \n",
       "3              37.45              23.65             12321.0            NaN   \n",
       "4              36.65              35.45              9396.0            NaN   \n",
       "\n",
       "  body_part_type  pass_type  \n",
       "0      LEFT_FOOT        NaN  \n",
       "1      LEFT_FOOT        NaN  \n",
       "2     RIGHT_FOOT        NaN  \n",
       "3     RIGHT_FOOT  LONG_BALL  \n",
       "4     RIGHT_FOOT        NaN  "
      ]
     },
     "execution_count": 8,
     "metadata": {},
     "output_type": "execute_result"
    }
   ],
   "source": [
    "df.head()"
   ]
  },
  {
   "cell_type": "markdown",
   "metadata": {},
   "source": []
  },
  {
   "cell_type": "markdown",
   "metadata": {},
   "source": [
    "### coordinates of goal events"
   ]
  },
  {
   "cell_type": "code",
   "execution_count": 44,
   "metadata": {},
   "outputs": [],
   "source": [
    "# except for penalty shotout\n",
    "df = df[df['period_id'] != 5]\n",
    "# only for shot event\n",
    "df_shot = df[df['event_type'] == 'SHOT']"
   ]
  },
  {
   "cell_type": "code",
   "execution_count": 45,
   "metadata": {},
   "outputs": [
    {
     "data": {
      "text/html": [
       "<div>\n",
       "<style scoped>\n",
       "    .dataframe tbody tr th:only-of-type {\n",
       "        vertical-align: middle;\n",
       "    }\n",
       "\n",
       "    .dataframe tbody tr th {\n",
       "        vertical-align: top;\n",
       "    }\n",
       "\n",
       "    .dataframe thead th {\n",
       "        text-align: right;\n",
       "    }\n",
       "</style>\n",
       "<table border=\"1\" class=\"dataframe\">\n",
       "  <thead>\n",
       "    <tr style=\"text-align: right;\">\n",
       "      <th></th>\n",
       "      <th>Unnamed: 0</th>\n",
       "      <th>event_id</th>\n",
       "      <th>event_type</th>\n",
       "      <th>result</th>\n",
       "      <th>success</th>\n",
       "      <th>period_id</th>\n",
       "      <th>timestamp</th>\n",
       "      <th>end_timestamp</th>\n",
       "      <th>ball_state</th>\n",
       "      <th>ball_owning_team</th>\n",
       "      <th>team_id</th>\n",
       "      <th>player_id</th>\n",
       "      <th>coordinates_x</th>\n",
       "      <th>coordinates_y</th>\n",
       "      <th>end_coordinates_x</th>\n",
       "      <th>end_coordinates_y</th>\n",
       "      <th>receiver_player_id</th>\n",
       "      <th>set_piece_type</th>\n",
       "      <th>body_part_type</th>\n",
       "      <th>pass_type</th>\n",
       "    </tr>\n",
       "  </thead>\n",
       "  <tbody>\n",
       "    <tr>\n",
       "      <th>76</th>\n",
       "      <td>76</td>\n",
       "      <td>ba46e9d6-e828-4599-952c-39c1f7d22659</td>\n",
       "      <td>SHOT</td>\n",
       "      <td>OFF_TARGET</td>\n",
       "      <td>False</td>\n",
       "      <td>1</td>\n",
       "      <td>261.052</td>\n",
       "      <td>NaN</td>\n",
       "      <td>alive</td>\n",
       "      <td>Hoffenheim</td>\n",
       "      <td>Hoffenheim</td>\n",
       "      <td>Tarik Elyounoussi</td>\n",
       "      <td>108.05</td>\n",
       "      <td>31.15</td>\n",
       "      <td>NaN</td>\n",
       "      <td>NaN</td>\n",
       "      <td>NaN</td>\n",
       "      <td>NaN</td>\n",
       "      <td>LEFT_FOOT</td>\n",
       "      <td>NaN</td>\n",
       "    </tr>\n",
       "    <tr>\n",
       "      <th>104</th>\n",
       "      <td>104</td>\n",
       "      <td>85d67225-30fb-47c8-b478-cf568941a164</td>\n",
       "      <td>SHOT</td>\n",
       "      <td>GOAL</td>\n",
       "      <td>True</td>\n",
       "      <td>1</td>\n",
       "      <td>387.395</td>\n",
       "      <td>NaN</td>\n",
       "      <td>alive</td>\n",
       "      <td>Schalke 04</td>\n",
       "      <td>Schalke 04</td>\n",
       "      <td>Klaas-Jan Huntelaar</td>\n",
       "      <td>110.85</td>\n",
       "      <td>42.55</td>\n",
       "      <td>NaN</td>\n",
       "      <td>NaN</td>\n",
       "      <td>NaN</td>\n",
       "      <td>NaN</td>\n",
       "      <td>RIGHT_FOOT</td>\n",
       "      <td>NaN</td>\n",
       "    </tr>\n",
       "    <tr>\n",
       "      <th>119</th>\n",
       "      <td>119</td>\n",
       "      <td>adac17d3-5e67-4e8c-b482-4bae2f36e06e</td>\n",
       "      <td>SHOT</td>\n",
       "      <td>BLOCKED</td>\n",
       "      <td>False</td>\n",
       "      <td>1</td>\n",
       "      <td>496.762</td>\n",
       "      <td>NaN</td>\n",
       "      <td>alive</td>\n",
       "      <td>Hoffenheim</td>\n",
       "      <td>Hoffenheim</td>\n",
       "      <td>Kevin Volland</td>\n",
       "      <td>117.85</td>\n",
       "      <td>29.05</td>\n",
       "      <td>NaN</td>\n",
       "      <td>NaN</td>\n",
       "      <td>NaN</td>\n",
       "      <td>NaN</td>\n",
       "      <td>LEFT_FOOT</td>\n",
       "      <td>NaN</td>\n",
       "    </tr>\n",
       "    <tr>\n",
       "      <th>178</th>\n",
       "      <td>178</td>\n",
       "      <td>abffd193-62bc-4c8d-8636-1e3f0f0ebbe5</td>\n",
       "      <td>SHOT</td>\n",
       "      <td>GOAL</td>\n",
       "      <td>True</td>\n",
       "      <td>1</td>\n",
       "      <td>835.721</td>\n",
       "      <td>NaN</td>\n",
       "      <td>alive</td>\n",
       "      <td>Schalke 04</td>\n",
       "      <td>Schalke 04</td>\n",
       "      <td>Jean-Eric Maxim Choupo-Moting</td>\n",
       "      <td>101.75</td>\n",
       "      <td>27.55</td>\n",
       "      <td>NaN</td>\n",
       "      <td>NaN</td>\n",
       "      <td>NaN</td>\n",
       "      <td>NaN</td>\n",
       "      <td>LEFT_FOOT</td>\n",
       "      <td>NaN</td>\n",
       "    </tr>\n",
       "    <tr>\n",
       "      <th>217</th>\n",
       "      <td>217</td>\n",
       "      <td>d9cea903-f92a-40e1-a393-1a849d83f157</td>\n",
       "      <td>SHOT</td>\n",
       "      <td>SAVED</td>\n",
       "      <td>False</td>\n",
       "      <td>1</td>\n",
       "      <td>1036.953</td>\n",
       "      <td>NaN</td>\n",
       "      <td>alive</td>\n",
       "      <td>Schalke 04</td>\n",
       "      <td>Schalke 04</td>\n",
       "      <td>Klaas-Jan Huntelaar</td>\n",
       "      <td>109.25</td>\n",
       "      <td>26.45</td>\n",
       "      <td>NaN</td>\n",
       "      <td>NaN</td>\n",
       "      <td>NaN</td>\n",
       "      <td>NaN</td>\n",
       "      <td>RIGHT_FOOT</td>\n",
       "      <td>NaN</td>\n",
       "    </tr>\n",
       "  </tbody>\n",
       "</table>\n",
       "</div>"
      ],
      "text/plain": [
       "     Unnamed: 0                              event_id event_type      result  \\\n",
       "76           76  ba46e9d6-e828-4599-952c-39c1f7d22659       SHOT  OFF_TARGET   \n",
       "104         104  85d67225-30fb-47c8-b478-cf568941a164       SHOT        GOAL   \n",
       "119         119  adac17d3-5e67-4e8c-b482-4bae2f36e06e       SHOT     BLOCKED   \n",
       "178         178  abffd193-62bc-4c8d-8636-1e3f0f0ebbe5       SHOT        GOAL   \n",
       "217         217  d9cea903-f92a-40e1-a393-1a849d83f157       SHOT       SAVED   \n",
       "\n",
       "    success  period_id  timestamp  end_timestamp ball_state ball_owning_team  \\\n",
       "76    False          1    261.052            NaN      alive       Hoffenheim   \n",
       "104    True          1    387.395            NaN      alive       Schalke 04   \n",
       "119   False          1    496.762            NaN      alive       Hoffenheim   \n",
       "178    True          1    835.721            NaN      alive       Schalke 04   \n",
       "217   False          1   1036.953            NaN      alive       Schalke 04   \n",
       "\n",
       "        team_id                      player_id  coordinates_x  coordinates_y  \\\n",
       "76   Hoffenheim              Tarik Elyounoussi         108.05          31.15   \n",
       "104  Schalke 04            Klaas-Jan Huntelaar         110.85          42.55   \n",
       "119  Hoffenheim                  Kevin Volland         117.85          29.05   \n",
       "178  Schalke 04  Jean-Eric Maxim Choupo-Moting         101.75          27.55   \n",
       "217  Schalke 04            Klaas-Jan Huntelaar         109.25          26.45   \n",
       "\n",
       "     end_coordinates_x  end_coordinates_y  receiver_player_id set_piece_type  \\\n",
       "76                 NaN                NaN                 NaN            NaN   \n",
       "104                NaN                NaN                 NaN            NaN   \n",
       "119                NaN                NaN                 NaN            NaN   \n",
       "178                NaN                NaN                 NaN            NaN   \n",
       "217                NaN                NaN                 NaN            NaN   \n",
       "\n",
       "    body_part_type pass_type  \n",
       "76       LEFT_FOOT       NaN  \n",
       "104     RIGHT_FOOT       NaN  \n",
       "119      LEFT_FOOT       NaN  \n",
       "178      LEFT_FOOT       NaN  \n",
       "217     RIGHT_FOOT       NaN  "
      ]
     },
     "execution_count": 45,
     "metadata": {},
     "output_type": "execute_result"
    }
   ],
   "source": [
    "df_shot.head()"
   ]
  },
  {
   "cell_type": "code",
   "execution_count": 46,
   "metadata": {},
   "outputs": [
    {
     "data": {
      "text/plain": [
       "(array([8.0000e+00, 1.4000e+01, 4.7000e+01, 6.6000e+01, 1.1400e+02,\n",
       "        1.0920e+03, 7.7550e+03, 1.3595e+04, 1.8542e+04, 9.2180e+03]),\n",
       " array([ 35.35,  43.85,  52.35,  60.85,  69.35,  77.85,  86.35,  94.85,\n",
       "        103.35, 111.85, 120.35]),\n",
       " <BarContainer object of 10 artists>)"
      ]
     },
     "execution_count": 46,
     "metadata": {},
     "output_type": "execute_result"
    },
    {
     "data": {
      "image/png": "[encoded data removed]",
      "text/plain": [
       "<Figure size 640x480 with 1 Axes>"
      ]
     },
     "metadata": {},
     "output_type": "display_data"
    }
   ],
   "source": [
    "plt.hist(df_shot['coordinates_x'])"
   ]
  },
  {
   "cell_type": "code",
   "execution_count": 47,
   "metadata": {},
   "outputs": [
    {
     "data": {
      "text/plain": [
       "(array([   39.,   156.,  2777.,  9647., 13826., 12927.,  8748.,  2189.,\n",
       "           99.,    43.]),\n",
       " array([ 0.25,  8.22, 16.19, 24.16, 32.13, 40.1 , 48.07, 56.04, 64.01,\n",
       "        71.98, 79.95]),\n",
       " <BarContainer object of 10 artists>)"
      ]
     },
     "execution_count": 47,
     "metadata": {},
     "output_type": "execute_result"
    },
    {
     "data": {
      "image/png": "[encoded data removed]",
      "text/plain": [
       "<Figure size 640x480 with 1 Axes>"
      ]
     },
     "metadata": {},
     "output_type": "display_data"
    }
   ],
   "source": [
    "plt.hist(df_shot['coordinates_y'])"
   ]
  },
  {
   "cell_type": "code",
   "execution_count": 48,
   "metadata": {},
   "outputs": [],
   "source": [
    "## sample 10 goals\n",
    "np.random.seed(1)\n",
    "sample_idx = np.random.choice(range(len(df_shot)), size=10)"
   ]
  },
  {
   "cell_type": "code",
   "execution_count": 49,
   "metadata": {},
   "outputs": [
    {
     "data": {
      "text/html": [
       "<div>\n",
       "<style scoped>\n",
       "    .dataframe tbody tr th:only-of-type {\n",
       "        vertical-align: middle;\n",
       "    }\n",
       "\n",
       "    .dataframe tbody tr th {\n",
       "        vertical-align: top;\n",
       "    }\n",
       "\n",
       "    .dataframe thead th {\n",
       "        text-align: right;\n",
       "    }\n",
       "</style>\n",
       "<table border=\"1\" class=\"dataframe\">\n",
       "  <thead>\n",
       "    <tr style=\"text-align: right;\">\n",
       "      <th></th>\n",
       "      <th>Unnamed: 0</th>\n",
       "      <th>event_id</th>\n",
       "      <th>event_type</th>\n",
       "      <th>result</th>\n",
       "      <th>success</th>\n",
       "      <th>period_id</th>\n",
       "      <th>timestamp</th>\n",
       "      <th>end_timestamp</th>\n",
       "      <th>ball_state</th>\n",
       "      <th>ball_owning_team</th>\n",
       "      <th>team_id</th>\n",
       "      <th>player_id</th>\n",
       "      <th>coordinates_x</th>\n",
       "      <th>coordinates_y</th>\n",
       "      <th>end_coordinates_x</th>\n",
       "      <th>end_coordinates_y</th>\n",
       "      <th>receiver_player_id</th>\n",
       "      <th>set_piece_type</th>\n",
       "      <th>body_part_type</th>\n",
       "      <th>pass_type</th>\n",
       "    </tr>\n",
       "  </thead>\n",
       "  <tbody>\n",
       "    <tr>\n",
       "      <th>50964</th>\n",
       "      <td>374</td>\n",
       "      <td>e8516751-b826-4bd9-86a5-7e01893aa1d4</td>\n",
       "      <td>SHOT</td>\n",
       "      <td>GOAL</td>\n",
       "      <td>True</td>\n",
       "      <td>1</td>\n",
       "      <td>2138.606</td>\n",
       "      <td>NaN</td>\n",
       "      <td>alive</td>\n",
       "      <td>Juventus</td>\n",
       "      <td>Juventus</td>\n",
       "      <td>Paulo Bruno Exequiel Dybala</td>\n",
       "      <td>101.35</td>\n",
       "      <td>51.45</td>\n",
       "      <td>NaN</td>\n",
       "      <td>NaN</td>\n",
       "      <td>NaN</td>\n",
       "      <td>NaN</td>\n",
       "      <td>LEFT_FOOT</td>\n",
       "      <td>NaN</td>\n",
       "    </tr>\n",
       "    <tr>\n",
       "      <th>77337</th>\n",
       "      <td>942</td>\n",
       "      <td>a1b47aad-7023-4ee5-85ef-d0c24598a215</td>\n",
       "      <td>SHOT</td>\n",
       "      <td>OFF_TARGET</td>\n",
       "      <td>False</td>\n",
       "      <td>2</td>\n",
       "      <td>2532.283</td>\n",
       "      <td>NaN</td>\n",
       "      <td>alive</td>\n",
       "      <td>Real Sociedad</td>\n",
       "      <td>Real Sociedad</td>\n",
       "      <td>Jonathas Cristian de Jesus</td>\n",
       "      <td>94.45</td>\n",
       "      <td>52.55</td>\n",
       "      <td>NaN</td>\n",
       "      <td>NaN</td>\n",
       "      <td>NaN</td>\n",
       "      <td>NaN</td>\n",
       "      <td>RIGHT_FOOT</td>\n",
       "      <td>NaN</td>\n",
       "    </tr>\n",
       "    <tr>\n",
       "      <th>202418</th>\n",
       "      <td>533</td>\n",
       "      <td>5d11ef9e-4e28-43b4-92ae-2ad29dc55955</td>\n",
       "      <td>SHOT</td>\n",
       "      <td>GOAL</td>\n",
       "      <td>True</td>\n",
       "      <td>1</td>\n",
       "      <td>2555.452</td>\n",
       "      <td>NaN</td>\n",
       "      <td>alive</td>\n",
       "      <td>Borussia Dortmund</td>\n",
       "      <td>Borussia Dortmund</td>\n",
       "      <td>Matthias Ginter</td>\n",
       "      <td>115.45</td>\n",
       "      <td>30.85</td>\n",
       "      <td>NaN</td>\n",
       "      <td>NaN</td>\n",
       "      <td>NaN</td>\n",
       "      <td>NaN</td>\n",
       "      <td>HEAD</td>\n",
       "      <td>NaN</td>\n",
       "    </tr>\n",
       "    <tr>\n",
       "      <th>31009</th>\n",
       "      <td>1134</td>\n",
       "      <td>729c6a54-1607-4dee-aa5e-859505baadd2</td>\n",
       "      <td>SHOT</td>\n",
       "      <td>SAVED</td>\n",
       "      <td>False</td>\n",
       "      <td>2</td>\n",
       "      <td>2680.287</td>\n",
       "      <td>NaN</td>\n",
       "      <td>alive</td>\n",
       "      <td>Fiorentina</td>\n",
       "      <td>Fiorentina</td>\n",
       "      <td>Nikola Kalinić</td>\n",
       "      <td>108.05</td>\n",
       "      <td>40.05</td>\n",
       "      <td>NaN</td>\n",
       "      <td>NaN</td>\n",
       "      <td>NaN</td>\n",
       "      <td>NaN</td>\n",
       "      <td>RIGHT_FOOT</td>\n",
       "      <td>NaN</td>\n",
       "    </tr>\n",
       "    <tr>\n",
       "      <th>85882</th>\n",
       "      <td>770</td>\n",
       "      <td>a9ba7de4-9ac9-43e3-8f77-9d4a8d15600f</td>\n",
       "      <td>SHOT</td>\n",
       "      <td>OFF_TARGET</td>\n",
       "      <td>False</td>\n",
       "      <td>2</td>\n",
       "      <td>1906.332</td>\n",
       "      <td>NaN</td>\n",
       "      <td>alive</td>\n",
       "      <td>AC Milan</td>\n",
       "      <td>AC Milan</td>\n",
       "      <td>Mario Barwuah Balotelli</td>\n",
       "      <td>96.05</td>\n",
       "      <td>49.85</td>\n",
       "      <td>NaN</td>\n",
       "      <td>NaN</td>\n",
       "      <td>NaN</td>\n",
       "      <td>NaN</td>\n",
       "      <td>RIGHT_FOOT</td>\n",
       "      <td>NaN</td>\n",
       "    </tr>\n",
       "    <tr>\n",
       "      <th>358585</th>\n",
       "      <td>525</td>\n",
       "      <td>c15b0f36-a383-40fe-925b-a357c42106aa</td>\n",
       "      <td>SHOT</td>\n",
       "      <td>OFF_TARGET</td>\n",
       "      <td>False</td>\n",
       "      <td>2</td>\n",
       "      <td>358.940</td>\n",
       "      <td>NaN</td>\n",
       "      <td>alive</td>\n",
       "      <td>Crystal Palace</td>\n",
       "      <td>Crystal Palace</td>\n",
       "      <td>Scott Dann</td>\n",
       "      <td>108.95</td>\n",
       "      <td>35.25</td>\n",
       "      <td>NaN</td>\n",
       "      <td>NaN</td>\n",
       "      <td>NaN</td>\n",
       "      <td>NaN</td>\n",
       "      <td>HEAD</td>\n",
       "      <td>NaN</td>\n",
       "    </tr>\n",
       "    <tr>\n",
       "      <th>302822</th>\n",
       "      <td>456</td>\n",
       "      <td>3993a9bc-90b2-4c61-9014-358abbf25acf</td>\n",
       "      <td>SHOT</td>\n",
       "      <td>OFF_TARGET</td>\n",
       "      <td>False</td>\n",
       "      <td>1</td>\n",
       "      <td>2321.901</td>\n",
       "      <td>NaN</td>\n",
       "      <td>alive</td>\n",
       "      <td>Hamburger SV</td>\n",
       "      <td>Hamburger SV</td>\n",
       "      <td>Sven Schipplock</td>\n",
       "      <td>112.25</td>\n",
       "      <td>55.45</td>\n",
       "      <td>NaN</td>\n",
       "      <td>NaN</td>\n",
       "      <td>NaN</td>\n",
       "      <td>NaN</td>\n",
       "      <td>RIGHT_FOOT</td>\n",
       "      <td>NaN</td>\n",
       "    </tr>\n",
       "    <tr>\n",
       "      <th>55168</th>\n",
       "      <td>912</td>\n",
       "      <td>fe34dfd5-6bb3-4245-b1aa-a85daff29f8d</td>\n",
       "      <td>SHOT</td>\n",
       "      <td>GOAL</td>\n",
       "      <td>True</td>\n",
       "      <td>2</td>\n",
       "      <td>2799.257</td>\n",
       "      <td>NaN</td>\n",
       "      <td>alive</td>\n",
       "      <td>Athletic Club</td>\n",
       "      <td>Athletic Club</td>\n",
       "      <td>Aritz Aduriz Zubeldia</td>\n",
       "      <td>113.45</td>\n",
       "      <td>42.95</td>\n",
       "      <td>NaN</td>\n",
       "      <td>NaN</td>\n",
       "      <td>NaN</td>\n",
       "      <td>NaN</td>\n",
       "      <td>HEAD</td>\n",
       "      <td>NaN</td>\n",
       "    </tr>\n",
       "    <tr>\n",
       "      <th>47228</th>\n",
       "      <td>801</td>\n",
       "      <td>4c9117a1-70b5-4674-a5d0-d3219c537579</td>\n",
       "      <td>SHOT</td>\n",
       "      <td>SAVED</td>\n",
       "      <td>False</td>\n",
       "      <td>2</td>\n",
       "      <td>1452.824</td>\n",
       "      <td>NaN</td>\n",
       "      <td>alive</td>\n",
       "      <td>Chievo</td>\n",
       "      <td>Chievo</td>\n",
       "      <td>Riccardo Meggiorini</td>\n",
       "      <td>92.25</td>\n",
       "      <td>49.45</td>\n",
       "      <td>NaN</td>\n",
       "      <td>NaN</td>\n",
       "      <td>NaN</td>\n",
       "      <td>NaN</td>\n",
       "      <td>LEFT_FOOT</td>\n",
       "      <td>NaN</td>\n",
       "    </tr>\n",
       "    <tr>\n",
       "      <th>20601</th>\n",
       "      <td>669</td>\n",
       "      <td>fe4a8cb5-bf2c-460b-86d9-bfde1a1388d6</td>\n",
       "      <td>SHOT</td>\n",
       "      <td>GOAL</td>\n",
       "      <td>True</td>\n",
       "      <td>2</td>\n",
       "      <td>429.616</td>\n",
       "      <td>NaN</td>\n",
       "      <td>alive</td>\n",
       "      <td>Athletic Club</td>\n",
       "      <td>Athletic Club</td>\n",
       "      <td>Aritz Aduriz Zubeldia</td>\n",
       "      <td>117.15</td>\n",
       "      <td>38.15</td>\n",
       "      <td>NaN</td>\n",
       "      <td>NaN</td>\n",
       "      <td>NaN</td>\n",
       "      <td>NaN</td>\n",
       "      <td>HEAD</td>\n",
       "      <td>NaN</td>\n",
       "    </tr>\n",
       "  </tbody>\n",
       "</table>\n",
       "</div>"
      ],
      "text/plain": [
       "        Unnamed: 0                              event_id event_type  \\\n",
       "50964          374  e8516751-b826-4bd9-86a5-7e01893aa1d4       SHOT   \n",
       "77337          942  a1b47aad-7023-4ee5-85ef-d0c24598a215       SHOT   \n",
       "202418         533  5d11ef9e-4e28-43b4-92ae-2ad29dc55955       SHOT   \n",
       "31009         1134  729c6a54-1607-4dee-aa5e-859505baadd2       SHOT   \n",
       "85882          770  a9ba7de4-9ac9-43e3-8f77-9d4a8d15600f       SHOT   \n",
       "358585         525  c15b0f36-a383-40fe-925b-a357c42106aa       SHOT   \n",
       "302822         456  3993a9bc-90b2-4c61-9014-358abbf25acf       SHOT   \n",
       "55168          912  fe34dfd5-6bb3-4245-b1aa-a85daff29f8d       SHOT   \n",
       "47228          801  4c9117a1-70b5-4674-a5d0-d3219c537579       SHOT   \n",
       "20601          669  fe4a8cb5-bf2c-460b-86d9-bfde1a1388d6       SHOT   \n",
       "\n",
       "            result success  period_id  timestamp  end_timestamp ball_state  \\\n",
       "50964         GOAL    True          1   2138.606            NaN      alive   \n",
       "77337   OFF_TARGET   False          2   2532.283            NaN      alive   \n",
       "202418        GOAL    True          1   2555.452            NaN      alive   \n",
       "31009        SAVED   False          2   2680.287            NaN      alive   \n",
       "85882   OFF_TARGET   False          2   1906.332            NaN      alive   \n",
       "358585  OFF_TARGET   False          2    358.940            NaN      alive   \n",
       "302822  OFF_TARGET   False          1   2321.901            NaN      alive   \n",
       "55168         GOAL    True          2   2799.257            NaN      alive   \n",
       "47228        SAVED   False          2   1452.824            NaN      alive   \n",
       "20601         GOAL    True          2    429.616            NaN      alive   \n",
       "\n",
       "         ball_owning_team            team_id                    player_id  \\\n",
       "50964            Juventus           Juventus  Paulo Bruno Exequiel Dybala   \n",
       "77337       Real Sociedad      Real Sociedad   Jonathas Cristian de Jesus   \n",
       "202418  Borussia Dortmund  Borussia Dortmund              Matthias Ginter   \n",
       "31009          Fiorentina         Fiorentina               Nikola Kalinić   \n",
       "85882            AC Milan           AC Milan      Mario Barwuah Balotelli   \n",
       "358585     Crystal Palace     Crystal Palace                   Scott Dann   \n",
       "302822       Hamburger SV       Hamburger SV              Sven Schipplock   \n",
       "55168       Athletic Club      Athletic Club        Aritz Aduriz Zubeldia   \n",
       "47228              Chievo             Chievo          Riccardo Meggiorini   \n",
       "20601       Athletic Club      Athletic Club        Aritz Aduriz Zubeldia   \n",
       "\n",
       "        coordinates_x  coordinates_y  end_coordinates_x  end_coordinates_y  \\\n",
       "50964          101.35          51.45                NaN                NaN   \n",
       "77337           94.45          52.55                NaN                NaN   \n",
       "202418         115.45          30.85                NaN                NaN   \n",
       "31009          108.05          40.05                NaN                NaN   \n",
       "85882           96.05          49.85                NaN                NaN   \n",
       "358585         108.95          35.25                NaN                NaN   \n",
       "302822         112.25          55.45                NaN                NaN   \n",
       "55168          113.45          42.95                NaN                NaN   \n",
       "47228           92.25          49.45                NaN                NaN   \n",
       "20601          117.15          38.15                NaN                NaN   \n",
       "\n",
       "        receiver_player_id set_piece_type body_part_type pass_type  \n",
       "50964                  NaN            NaN      LEFT_FOOT       NaN  \n",
       "77337                  NaN            NaN     RIGHT_FOOT       NaN  \n",
       "202418                 NaN            NaN           HEAD       NaN  \n",
       "31009                  NaN            NaN     RIGHT_FOOT       NaN  \n",
       "85882                  NaN            NaN     RIGHT_FOOT       NaN  \n",
       "358585                 NaN            NaN           HEAD       NaN  \n",
       "302822                 NaN            NaN     RIGHT_FOOT       NaN  \n",
       "55168                  NaN            NaN           HEAD       NaN  \n",
       "47228                  NaN            NaN      LEFT_FOOT       NaN  \n",
       "20601                  NaN            NaN           HEAD       NaN  "
      ]
     },
     "execution_count": 49,
     "metadata": {},
     "output_type": "execute_result"
    }
   ],
   "source": [
    "df_shot.iloc[sample_idx,:]['coordinates_y']\n",
    "df_shot.iloc[sample_idx,:]"
   ]
  },
  {
   "cell_type": "code",
   "execution_count": 50,
   "metadata": {},
   "outputs": [
    {
     "data": {
      "image/png": "[encoded data removed]",
      "text/plain": [
       "<Figure size 640x480 with 1 Axes>"
      ]
     },
     "metadata": {},
     "output_type": "display_data"
    }
   ],
   "source": [
    "pitch = Pitch(pitch_color='#e7f1fa', line_zorder=1, line_color='black', pitch_type=\"statsbomb\")\n",
    "fig, ax = pitch.draw()\n",
    "for i in sample_idx:\n",
    "    if df_shot.iloc[i]['result'] == 'GOAL':\n",
    "        col = 'red'\n",
    "    else :\n",
    "        col = 'blue'  \n",
    "    ax.scatter(df_shot.iloc[i]['coordinates_x'], df_shot.iloc[i]['coordinates_y'], color = col)"
   ]
  },
  {
   "attachments": {},
   "cell_type": "markdown",
   "metadata": {},
   "source": [
    "### Distance from goal line and on-target angle\n",
    "- statsbomb pitch size (120, 80)\n",
    "- goal post size (w, h) = (7.32, 2.44)\n",
    "- goal post point (x1, y1), (x2, y2) = (120, 43.66), (120, 36.34)"
   ]
  },
  {
   "cell_type": "code",
   "execution_count": 51,
   "metadata": {},
   "outputs": [],
   "source": [
    "def distance(points):\n",
    "    output = np.sqrt(((np.array([120, 40]) - points)**2).sum(axis=1))\n",
    "    return output"
   ]
  },
  {
   "cell_type": "code",
   "execution_count": 66,
   "metadata": {},
   "outputs": [],
   "source": [
    "def on_target_angle(points):\n",
    "    c = 7.32\n",
    "    a = np.sqrt(((np.array([120, 43.66]) - points)**2).sum(axis=1))\n",
    "    b = np.sqrt(((np.array([120, 36.34]) - points)**2).sum(axis=1))\n",
    "    cos_theta = (a**2 + b**2 - c**2)/(2 * a * b)\n",
    "    theta = np.arccos(cos_theta)\n",
    "    return theta "
   ]
  },
  {
   "cell_type": "code",
   "execution_count": 67,
   "metadata": {},
   "outputs": [],
   "source": [
    "shot_points = pd.concat([df_shot['coordinates_x'], df_shot['coordinates_y']], axis=1).values"
   ]
  },
  {
   "cell_type": "code",
   "execution_count": 68,
   "metadata": {},
   "outputs": [
    {
     "data": {
      "text/plain": [
       "11.07"
      ]
     },
     "execution_count": 68,
     "metadata": {},
     "output_type": "execute_result"
    }
   ],
   "source": [
    "round(len(df_shot[df_shot['result'] == 'GOAL'])*100/len(df_shot), 2) "
   ]
  },
  {
   "cell_type": "code",
   "execution_count": 69,
   "metadata": {},
   "outputs": [],
   "source": [
    "df_shot['shot_distance'] = distance(shot_points)\n",
    "df_shot['shot_angle'] = on_target_angle(shot_points)"
   ]
  },
  {
   "cell_type": "code",
   "execution_count": 75,
   "metadata": {},
   "outputs": [],
   "source": [
    "dt = df_shot[['success', 'shot_distance', 'shot_angle', 'body_part_type']]"
   ]
  },
  {
   "cell_type": "code",
   "execution_count": 76,
   "metadata": {},
   "outputs": [
    {
     "data": {
      "text/html": [
       "<div>\n",
       "<style scoped>\n",
       "    .dataframe tbody tr th:only-of-type {\n",
       "        vertical-align: middle;\n",
       "    }\n",
       "\n",
       "    .dataframe tbody tr th {\n",
       "        vertical-align: top;\n",
       "    }\n",
       "\n",
       "    .dataframe thead th {\n",
       "        text-align: right;\n",
       "    }\n",
       "</style>\n",
       "<table border=\"1\" class=\"dataframe\">\n",
       "  <thead>\n",
       "    <tr style=\"text-align: right;\">\n",
       "      <th></th>\n",
       "      <th>success</th>\n",
       "      <th>shot_distance</th>\n",
       "      <th>shot_angle</th>\n",
       "      <th>body_part_type</th>\n",
       "    </tr>\n",
       "  </thead>\n",
       "  <tbody>\n",
       "    <tr>\n",
       "      <th>76</th>\n",
       "      <td>False</td>\n",
       "      <td>14.870272</td>\n",
       "      <td>0.398559</td>\n",
       "      <td>LEFT_FOOT</td>\n",
       "    </tr>\n",
       "    <tr>\n",
       "      <th>104</th>\n",
       "      <td>True</td>\n",
       "      <td>9.498684</td>\n",
       "      <td>0.717001</td>\n",
       "      <td>RIGHT_FOOT</td>\n",
       "    </tr>\n",
       "    <tr>\n",
       "      <th>119</th>\n",
       "      <td>False</td>\n",
       "      <td>11.159077</td>\n",
       "      <td>0.140683</td>\n",
       "      <td>LEFT_FOOT</td>\n",
       "    </tr>\n",
       "    <tr>\n",
       "      <th>178</th>\n",
       "      <td>True</td>\n",
       "      <td>22.092193</td>\n",
       "      <td>0.274342</td>\n",
       "      <td>LEFT_FOOT</td>\n",
       "    </tr>\n",
       "    <tr>\n",
       "      <th>217</th>\n",
       "      <td>False</td>\n",
       "      <td>17.296387</td>\n",
       "      <td>0.268703</td>\n",
       "      <td>RIGHT_FOOT</td>\n",
       "    </tr>\n",
       "    <tr>\n",
       "      <th>...</th>\n",
       "      <td>...</td>\n",
       "      <td>...</td>\n",
       "      <td>...</td>\n",
       "      <td>...</td>\n",
       "    </tr>\n",
       "    <tr>\n",
       "      <th>100694</th>\n",
       "      <td>False</td>\n",
       "      <td>25.094322</td>\n",
       "      <td>0.266107</td>\n",
       "      <td>RIGHT_FOOT</td>\n",
       "    </tr>\n",
       "    <tr>\n",
       "      <th>100739</th>\n",
       "      <td>False</td>\n",
       "      <td>29.515504</td>\n",
       "      <td>0.242203</td>\n",
       "      <td>RIGHT_FOOT</td>\n",
       "    </tr>\n",
       "    <tr>\n",
       "      <th>100783</th>\n",
       "      <td>False</td>\n",
       "      <td>14.567944</td>\n",
       "      <td>0.488906</td>\n",
       "      <td>RIGHT_FOOT</td>\n",
       "    </tr>\n",
       "    <tr>\n",
       "      <th>100809</th>\n",
       "      <td>True</td>\n",
       "      <td>11.884654</td>\n",
       "      <td>0.459844</td>\n",
       "      <td>RIGHT_FOOT</td>\n",
       "    </tr>\n",
       "    <tr>\n",
       "      <th>100829</th>\n",
       "      <td>False</td>\n",
       "      <td>12.236217</td>\n",
       "      <td>0.578044</td>\n",
       "      <td>HEAD</td>\n",
       "    </tr>\n",
       "  </tbody>\n",
       "</table>\n",
       "<p>50451 rows × 4 columns</p>\n",
       "</div>"
      ],
      "text/plain": [
       "       success  shot_distance  shot_angle body_part_type\n",
       "76       False      14.870272    0.398559      LEFT_FOOT\n",
       "104       True       9.498684    0.717001     RIGHT_FOOT\n",
       "119      False      11.159077    0.140683      LEFT_FOOT\n",
       "178       True      22.092193    0.274342      LEFT_FOOT\n",
       "217      False      17.296387    0.268703     RIGHT_FOOT\n",
       "...        ...            ...         ...            ...\n",
       "100694   False      25.094322    0.266107     RIGHT_FOOT\n",
       "100739   False      29.515504    0.242203     RIGHT_FOOT\n",
       "100783   False      14.567944    0.488906     RIGHT_FOOT\n",
       "100809    True      11.884654    0.459844     RIGHT_FOOT\n",
       "100829   False      12.236217    0.578044           HEAD\n",
       "\n",
       "[50451 rows x 4 columns]"
      ]
     },
     "execution_count": 76,
     "metadata": {},
     "output_type": "execute_result"
    }
   ],
   "source": [
    "dt"
   ]
  },
  {
   "cell_type": "code",
   "execution_count": 77,
   "metadata": {},
   "outputs": [
    {
     "data": {
      "text/plain": [
       "{'HEAD', 'LEFT_FOOT', 'OTHER', 'RIGHT_FOOT'}"
      ]
     },
     "execution_count": 77,
     "metadata": {},
     "output_type": "execute_result"
    }
   ],
   "source": [
    "set(dt.body_part_type)"
   ]
  },
  {
   "cell_type": "code",
   "execution_count": 80,
   "metadata": {},
   "outputs": [
    {
     "data": {
      "text/plain": [
       "True"
      ]
     },
     "execution_count": 80,
     "metadata": {},
     "output_type": "execute_result"
    }
   ],
   "source": [
    "dt['success'].iloc[0] == False"
   ]
  },
  {
   "cell_type": "code",
   "execution_count": 84,
   "metadata": {},
   "outputs": [],
   "source": [
    "dt['success'] = dt['success'].apply(lambda x:1 if x else 0)"
   ]
  },
  {
   "cell_type": "code",
   "execution_count": 95,
   "metadata": {},
   "outputs": [],
   "source": [
    "dt = pd.concat([dt.loc[:,~dt.columns.isin(['body_part_type'])],pd.get_dummies(dt['body_part_type'])], axis=1)"
   ]
  },
  {
   "cell_type": "code",
   "execution_count": 96,
   "metadata": {},
   "outputs": [
    {
     "data": {
      "text/html": [
       "<div>\n",
       "<style scoped>\n",
       "    .dataframe tbody tr th:only-of-type {\n",
       "        vertical-align: middle;\n",
       "    }\n",
       "\n",
       "    .dataframe tbody tr th {\n",
       "        vertical-align: top;\n",
       "    }\n",
       "\n",
       "    .dataframe thead th {\n",
       "        text-align: right;\n",
       "    }\n",
       "</style>\n",
       "<table border=\"1\" class=\"dataframe\">\n",
       "  <thead>\n",
       "    <tr style=\"text-align: right;\">\n",
       "      <th></th>\n",
       "      <th>success</th>\n",
       "      <th>shot_distance</th>\n",
       "      <th>shot_angle</th>\n",
       "      <th>HEAD</th>\n",
       "      <th>LEFT_FOOT</th>\n",
       "      <th>OTHER</th>\n",
       "      <th>RIGHT_FOOT</th>\n",
       "    </tr>\n",
       "  </thead>\n",
       "  <tbody>\n",
       "    <tr>\n",
       "      <th>76</th>\n",
       "      <td>0</td>\n",
       "      <td>14.870272</td>\n",
       "      <td>0.398559</td>\n",
       "      <td>0</td>\n",
       "      <td>1</td>\n",
       "      <td>0</td>\n",
       "      <td>0</td>\n",
       "    </tr>\n",
       "    <tr>\n",
       "      <th>104</th>\n",
       "      <td>1</td>\n",
       "      <td>9.498684</td>\n",
       "      <td>0.717001</td>\n",
       "      <td>0</td>\n",
       "      <td>0</td>\n",
       "      <td>0</td>\n",
       "      <td>1</td>\n",
       "    </tr>\n",
       "    <tr>\n",
       "      <th>119</th>\n",
       "      <td>0</td>\n",
       "      <td>11.159077</td>\n",
       "      <td>0.140683</td>\n",
       "      <td>0</td>\n",
       "      <td>1</td>\n",
       "      <td>0</td>\n",
       "      <td>0</td>\n",
       "    </tr>\n",
       "    <tr>\n",
       "      <th>178</th>\n",
       "      <td>1</td>\n",
       "      <td>22.092193</td>\n",
       "      <td>0.274342</td>\n",
       "      <td>0</td>\n",
       "      <td>1</td>\n",
       "      <td>0</td>\n",
       "      <td>0</td>\n",
       "    </tr>\n",
       "    <tr>\n",
       "      <th>217</th>\n",
       "      <td>0</td>\n",
       "      <td>17.296387</td>\n",
       "      <td>0.268703</td>\n",
       "      <td>0</td>\n",
       "      <td>0</td>\n",
       "      <td>0</td>\n",
       "      <td>1</td>\n",
       "    </tr>\n",
       "  </tbody>\n",
       "</table>\n",
       "</div>"
      ],
      "text/plain": [
       "     success  shot_distance  shot_angle  HEAD  LEFT_FOOT  OTHER  RIGHT_FOOT\n",
       "76         0      14.870272    0.398559     0          1      0           0\n",
       "104        1       9.498684    0.717001     0          0      0           1\n",
       "119        0      11.159077    0.140683     0          1      0           0\n",
       "178        1      22.092193    0.274342     0          1      0           0\n",
       "217        0      17.296387    0.268703     0          0      0           1"
      ]
     },
     "execution_count": 96,
     "metadata": {},
     "output_type": "execute_result"
    }
   ],
   "source": [
    "dt.head()"
   ]
  },
  {
   "cell_type": "code",
   "execution_count": 179,
   "metadata": {},
   "outputs": [],
   "source": [
    "x = dt.loc[:, dt.columns != 'success'].values\n",
    "y = dt['success'].values"
   ]
  },
  {
   "attachments": {},
   "cell_type": "markdown",
   "metadata": {},
   "source": [
    "#### logistic regression model"
   ]
  },
  {
   "cell_type": "code",
   "execution_count": 180,
   "metadata": {},
   "outputs": [],
   "source": [
    "from sklearn.linear_model import LogisticRegression\n",
    "from sklearn.preprocessing import MinMaxScaler\n",
    "from sklearn.model_selection import train_test_split"
   ]
  },
  {
   "cell_type": "code",
   "execution_count": 181,
   "metadata": {},
   "outputs": [],
   "source": [
    "scaler = MinMaxScaler()\n",
    "X = scaler.fit_transform(x)"
   ]
  },
  {
   "cell_type": "code",
   "execution_count": 182,
   "metadata": {},
   "outputs": [],
   "source": [
    "X_train, X_test, y_train, y_test = train_test_split(X, y, test_size=0.2)"
   ]
  },
  {
   "cell_type": "code",
   "execution_count": 183,
   "metadata": {},
   "outputs": [
    {
     "data": {
      "text/html": [
       "<style>#sk-container-id-4 {color: black;background-color: white;}#sk-container-id-4 pre{padding: 0;}#sk-container-id-4 div.sk-toggleable {background-color: white;}#sk-container-id-4 label.sk-toggleable__label {cursor: pointer;display: block;width: 100%;margin-bottom: 0;padding: 0.3em;box-sizing: border-box;text-align: center;}#sk-container-id-4 label.sk-toggleable__label-arrow:before {content: \"▸\";float: left;margin-right: 0.25em;color: #696969;}#sk-container-id-4 label.sk-toggleable__label-arrow:hover:before {color: black;}#sk-container-id-4 div.sk-estimator:hover label.sk-toggleable__label-arrow:before {color: black;}#sk-container-id-4 div.sk-toggleable__content {max-height: 0;max-width: 0;overflow: hidden;text-align: left;background-color: #f0f8ff;}#sk-container-id-4 div.sk-toggleable__content pre {margin: 0.2em;color: black;border-radius: 0.25em;background-color: #f0f8ff;}#sk-container-id-4 input.sk-toggleable__control:checked~div.sk-toggleable__content {max-height: 200px;max-width: 100%;overflow: auto;}#sk-container-id-4 input.sk-toggleable__control:checked~label.sk-toggleable__label-arrow:before {content: \"▾\";}#sk-container-id-4 div.sk-estimator input.sk-toggleable__control:checked~label.sk-toggleable__label {background-color: #d4ebff;}#sk-container-id-4 div.sk-label input.sk-toggleable__control:checked~label.sk-toggleable__label {background-color: #d4ebff;}#sk-container-id-4 input.sk-hidden--visually {border: 0;clip: rect(1px 1px 1px 1px);clip: rect(1px, 1px, 1px, 1px);height: 1px;margin: -1px;overflow: hidden;padding: 0;position: absolute;width: 1px;}#sk-container-id-4 div.sk-estimator {font-family: monospace;background-color: #f0f8ff;border: 1px dotted black;border-radius: 0.25em;box-sizing: border-box;margin-bottom: 0.5em;}#sk-container-id-4 div.sk-estimator:hover {background-color: #d4ebff;}#sk-container-id-4 div.sk-parallel-item::after {content: \"\";width: 100%;border-bottom: 1px solid gray;flex-grow: 1;}#sk-container-id-4 div.sk-label:hover label.sk-toggleable__label {background-color: #d4ebff;}#sk-container-id-4 div.sk-serial::before {content: \"\";position: absolute;border-left: 1px solid gray;box-sizing: border-box;top: 0;bottom: 0;left: 50%;z-index: 0;}#sk-container-id-4 div.sk-serial {display: flex;flex-direction: column;align-items: center;background-color: white;padding-right: 0.2em;padding-left: 0.2em;position: relative;}#sk-container-id-4 div.sk-item {position: relative;z-index: 1;}#sk-container-id-4 div.sk-parallel {display: flex;align-items: stretch;justify-content: center;background-color: white;position: relative;}#sk-container-id-4 div.sk-item::before, #sk-container-id-4 div.sk-parallel-item::before {content: \"\";position: absolute;border-left: 1px solid gray;box-sizing: border-box;top: 0;bottom: 0;left: 50%;z-index: -1;}#sk-container-id-4 div.sk-parallel-item {display: flex;flex-direction: column;z-index: 1;position: relative;background-color: white;}#sk-container-id-4 div.sk-parallel-item:first-child::after {align-self: flex-end;width: 50%;}#sk-container-id-4 div.sk-parallel-item:last-child::after {align-self: flex-start;width: 50%;}#sk-container-id-4 div.sk-parallel-item:only-child::after {width: 0;}#sk-container-id-4 div.sk-dashed-wrapped {border: 1px dashed gray;margin: 0 0.4em 0.5em 0.4em;box-sizing: border-box;padding-bottom: 0.4em;background-color: white;}#sk-container-id-4 div.sk-label label {font-family: monospace;font-weight: bold;display: inline-block;line-height: 1.2em;}#sk-container-id-4 div.sk-label-container {text-align: center;}#sk-container-id-4 div.sk-container {/* jupyter's `normalize.less` sets `[hidden] { display: none; }` but bootstrap.min.css set `[hidden] { display: none !important; }` so we also need the `!important` here to be able to override the default hidden behavior on the sphinx rendered scikit-learn.org. See: https://github.com/scikit-learn/scikit-learn/issues/21755 */display: inline-block !important;position: relative;}#sk-container-id-4 div.sk-text-repr-fallback {display: none;}</style><div id=\"sk-container-id-4\" class=\"sk-top-container\"><div class=\"sk-text-repr-fallback\"><pre>LogisticRegression()</pre><b>In a Jupyter environment, please rerun this cell to show the HTML representation or trust the notebook. <br />On GitHub, the HTML representation is unable to render, please try loading this page with nbviewer.org.</b></div><div class=\"sk-container\" hidden><div class=\"sk-item\"><div class=\"sk-estimator sk-toggleable\"><input class=\"sk-toggleable__control sk-hidden--visually\" id=\"sk-estimator-id-4\" type=\"checkbox\" checked><label for=\"sk-estimator-id-4\" class=\"sk-toggleable__label sk-toggleable__label-arrow\">LogisticRegression</label><div class=\"sk-toggleable__content\"><pre>LogisticRegression()</pre></div></div></div></div></div>"
      ],
      "text/plain": [
       "LogisticRegression()"
      ]
     },
     "execution_count": 183,
     "metadata": {},
     "output_type": "execute_result"
    }
   ],
   "source": [
    "lr = LogisticRegression()\n",
    "lr.fit(X_train, y_train)"
   ]
  },
  {
   "cell_type": "code",
   "execution_count": 184,
   "metadata": {},
   "outputs": [
    {
     "data": {
      "text/plain": [
       "0.8927898909811695"
      ]
     },
     "execution_count": 184,
     "metadata": {},
     "output_type": "execute_result"
    }
   ],
   "source": [
    "lr.score(X_train, y_train)"
   ]
  },
  {
   "cell_type": "code",
   "execution_count": 185,
   "metadata": {},
   "outputs": [
    {
     "data": {
      "text/plain": [
       "0.8922802497274799"
      ]
     },
     "execution_count": 185,
     "metadata": {},
     "output_type": "execute_result"
    }
   ],
   "source": [
    "lr.score(X_test, y_test)"
   ]
  },
  {
   "attachments": {},
   "cell_type": "markdown",
   "metadata": {},
   "source": [
    "#### Model validation"
   ]
  },
  {
   "cell_type": "code",
   "execution_count": 277,
   "metadata": {},
   "outputs": [],
   "source": [
    "from sklearn.metrics import auc, roc_auc_score, roc_curve\n",
    "from sklearn.metrics import recall_score, precision_score"
   ]
  },
  {
   "cell_type": "code",
   "execution_count": 278,
   "metadata": {},
   "outputs": [
    {
     "data": {
      "text/plain": [
       "0.8922802497274799"
      ]
     },
     "execution_count": 278,
     "metadata": {},
     "output_type": "execute_result"
    }
   ],
   "source": [
    "lr.score(X_test, y_test)"
   ]
  },
  {
   "cell_type": "code",
   "execution_count": 281,
   "metadata": {},
   "outputs": [
    {
     "data": {
      "text/plain": [
       "Index(['shot_distance', 'shot_angle', 'HEAD', 'LEFT_FOOT', 'OTHER',\n",
       "       'RIGHT_FOOT'],\n",
       "      dtype='object')"
      ]
     },
     "execution_count": 281,
     "metadata": {},
     "output_type": "execute_result"
    }
   ],
   "source": [
    "dt.loc[:, dt.columns != 'success'].columns"
   ]
  },
  {
   "cell_type": "code",
   "execution_count": 282,
   "metadata": {},
   "outputs": [
    {
     "data": {
      "text/plain": [
       "array([[-8.90182988,  5.61003942, -0.87703302,  0.61151436, -0.39605651,\n",
       "         0.66204942]])"
      ]
     },
     "execution_count": 282,
     "metadata": {},
     "output_type": "execute_result"
    }
   ],
   "source": [
    "lr.coef_"
   ]
  },
  {
   "cell_type": "code",
   "execution_count": 283,
   "metadata": {},
   "outputs": [
    {
     "data": {
      "text/plain": [
       "0.10617283950617284"
      ]
     },
     "execution_count": 283,
     "metadata": {},
     "output_type": "execute_result"
    }
   ],
   "source": [
    "recall_score(y_true= y_train, y_pred = lr.predict(X_train))"
   ]
  },
  {
   "cell_type": "code",
   "execution_count": 284,
   "metadata": {},
   "outputs": [],
   "source": [
    "np.random.seed(30)\n",
    "sample_idx2 = np.random.choice(range(len(dt)), 100)"
   ]
  },
  {
   "cell_type": "code",
   "execution_count": 285,
   "metadata": {},
   "outputs": [],
   "source": [
    "sample_x = X[sample_idx2,:]\n",
    "sample_y = y[sample_idx2]"
   ]
  },
  {
   "cell_type": "code",
   "execution_count": 287,
   "metadata": {},
   "outputs": [
    {
     "data": {
      "text/plain": [
       "array([0, 0, 0, 0, 0, 0, 0, 0, 0, 0, 0, 0, 0, 0, 0, 0, 0, 0, 0, 0, 0, 0,\n",
       "       0, 0, 0, 0, 0, 0, 0, 0, 0, 0, 1, 0, 0, 0, 0, 0, 0, 0, 1, 0, 0, 0,\n",
       "       0, 0, 0, 0, 0, 0, 0, 0, 0, 0, 0, 0, 0, 0, 0, 0, 0, 0, 0, 0, 0, 0,\n",
       "       0, 0, 0, 0, 0, 0, 0, 0, 0, 0, 0, 0, 0, 0, 0, 0, 0, 0, 0, 0, 0, 0,\n",
       "       0, 0, 0, 0, 0, 0, 0, 0, 0, 0, 0, 0])"
      ]
     },
     "execution_count": 287,
     "metadata": {},
     "output_type": "execute_result"
    }
   ],
   "source": [
    "lr.predict(sample_x)"
   ]
  },
  {
   "cell_type": "code",
   "execution_count": 288,
   "metadata": {},
   "outputs": [],
   "source": [
    "predicted_score = lr.decision_function(sample_x)"
   ]
  },
  {
   "cell_type": "code",
   "execution_count": 289,
   "metadata": {},
   "outputs": [
    {
     "data": {
      "image/png": "[encoded data removed]",
      "text/plain": [
       "<Figure size 640x480 with 1 Axes>"
      ]
     },
     "metadata": {},
     "output_type": "display_data"
    }
   ],
   "source": [
    "from scipy.special import expit\n",
    "x_ = np.linspace(-6, 6, 121)\n",
    "y_ = expit(x_)\n",
    "plt.plot(x_, y_)\n",
    "for i in range(len(sample_y)):\n",
    "    if sample_y[i] == 1:\n",
    "        color = 'red'\n",
    "    else :\n",
    "        color = 'blue'\n",
    "    plt.scatter(predicted_score[i], sample_y[i], color = color)\n",
    "plt.grid()\n",
    "plt.xlim(-6, 6)\n",
    "plt.xlabel('x')\n",
    "plt.title('expit(x)')\n",
    "plt.show()"
   ]
  },
  {
   "cell_type": "code",
   "execution_count": 291,
   "metadata": {},
   "outputs": [],
   "source": [
    "y_pred_proba = lr.predict_proba(X_test)[::,1]"
   ]
  },
  {
   "attachments": {},
   "cell_type": "markdown",
   "metadata": {},
   "source": [
    "#### Test-set goal probability distribution (every shots)"
   ]
  },
  {
   "cell_type": "code",
   "execution_count": 293,
   "metadata": {},
   "outputs": [
    {
     "data": {
      "text/plain": [
       "(array([6402., 2236.,  803.,  264.,  164.,  103.,   50.,   34.,   22.,\n",
       "          13.]),\n",
       " array([5.25073410e-05, 9.90255507e-02, 1.97998594e-01, 2.96971637e-01,\n",
       "        3.95944681e-01, 4.94917724e-01, 5.93890767e-01, 6.92863811e-01,\n",
       "        7.91836854e-01, 8.90809897e-01, 9.89782941e-01]),\n",
       " <BarContainer object of 10 artists>)"
      ]
     },
     "execution_count": 293,
     "metadata": {},
     "output_type": "execute_result"
    },
    {
     "data": {
      "image/png": "[encoded data removed]",
      "text/plain": [
       "<Figure size 640x480 with 1 Axes>"
      ]
     },
     "metadata": {},
     "output_type": "display_data"
    }
   ],
   "source": [
    "plt.hist(y_pred_proba)"
   ]
  },
  {
   "cell_type": "code",
   "execution_count": 300,
   "metadata": {},
   "outputs": [],
   "source": [
    "#### Test-set goal probability distribution (only goals)"
   ]
  },
  {
   "cell_type": "code",
   "execution_count": 298,
   "metadata": {},
   "outputs": [
    {
     "data": {
      "text/plain": [
       "(array([290., 341., 225.,  72.,  70.,  53.,  25.,  25.,  17.,  11.]),\n",
       " array([0.00221102, 0.10096821, 0.1997254 , 0.29848259, 0.39723979,\n",
       "        0.49599698, 0.59475417, 0.69351136, 0.79226856, 0.89102575,\n",
       "        0.98978294]),\n",
       " <BarContainer object of 10 artists>)"
      ]
     },
     "execution_count": 298,
     "metadata": {},
     "output_type": "execute_result"
    },
    {
     "data": {
      "image/png": "[encoded data removed]",
      "text/plain": [
       "<Figure size 640x480 with 1 Axes>"
      ]
     },
     "metadata": {},
     "output_type": "display_data"
    }
   ],
   "source": [
    "plt.hist(lr.predict_proba(X_test[y_test == 1])[::,1])"
   ]
  },
  {
   "cell_type": "code",
   "execution_count": null,
   "metadata": {},
   "outputs": [],
   "source": [
    "y_pred_proba = lr.predict_proba(X_test)[::,1]"
   ]
  },
  {
   "cell_type": "code",
   "execution_count": 257,
   "metadata": {},
   "outputs": [],
   "source": [
    "auc = roc_auc_score(y_test, y_pred_proba)"
   ]
  },
  {
   "cell_type": "code",
   "execution_count": 262,
   "metadata": {},
   "outputs": [],
   "source": [
    "model_fpr, model_tpr, threshold1 = roc_curve(y_test, y_pred_proba)"
   ]
  },
  {
   "cell_type": "code",
   "execution_count": 304,
   "metadata": {},
   "outputs": [
    {
     "data": {
      "text/plain": [
       "0.7830754357192429"
      ]
     },
     "execution_count": 304,
     "metadata": {},
     "output_type": "execute_result"
    }
   ],
   "source": [
    "auc(model_fpr, model_tpr)"
   ]
  },
  {
   "cell_type": "code",
   "execution_count": 307,
   "metadata": {},
   "outputs": [
    {
     "data": {
      "text/plain": [
       "Text(0, 0.5, 'TPR')"
      ]
     },
     "execution_count": 307,
     "metadata": {},
     "output_type": "execute_result"
    },
    {
     "data": {
      "image/png": "[encoded data removed]",
      "text/plain": [
       "<Figure size 500x500 with 1 Axes>"
      ]
     },
     "metadata": {},
     "output_type": "display_data"
    }
   ],
   "source": [
    "plt.figure(figsize = (5,5))\n",
    "plt.plot(model_fpr, model_tpr, marker = '.', label = \"Logistic\")\n",
    "plt.plot([0, 1], [0, 1], 'red')\n",
    "plt.xlabel('FPR')\n",
    "plt.ylabel('TPR')"
   ]
  },
  {
   "cell_type": "code",
   "execution_count": 318,
   "metadata": {},
   "outputs": [
    {
     "name": "stdout",
     "output_type": "stream",
     "text": [
      "1129\n",
      "1119.511738133534\n"
     ]
    }
   ],
   "source": [
    "print(np.sum(y_test))\n",
    "print(np.sum(y_pred_proba))"
   ]
  },
  {
   "cell_type": "code",
   "execution_count": 360,
   "metadata": {},
   "outputs": [
    {
     "name": "stdout",
     "output_type": "stream",
     "text": [
      "5584\n",
      "5574.476575819223\n"
     ]
    }
   ],
   "source": [
    "print(np.sum(y))\n",
    "print(np.sum(lr.predict_proba(X)[::,1]))"
   ]
  },
  {
   "cell_type": "code",
   "execution_count": null,
   "metadata": {},
   "outputs": [
    {
     "data": {
      "text/plain": [
       "(array([31769., 11611.,  3924.,  1306.,   784.,   464.,   285.,   150.,\n",
       "           93.,    65.]),\n",
       " array([5.25073410e-05, 9.90255507e-02, 1.97998594e-01, 2.96971637e-01,\n",
       "        3.95944681e-01, 4.94917724e-01, 5.93890767e-01, 6.92863811e-01,\n",
       "        7.91836854e-01, 8.90809897e-01, 9.89782941e-01]),\n",
       " <BarContainer object of 10 artists>)"
      ]
     },
     "metadata": {},
     "output_type": "display_data"
    },
    {
     "data": {
      "image/png": "[encoded data removed]",
      "text/plain": [
       "<Figure size 640x480 with 1 Axes>"
      ]
     },
     "metadata": {},
     "output_type": "display_data"
    }
   ],
   "source": [
    "plt.hist(lr.predict_proba(X)[:,1])"
   ]
  },
  {
   "cell_type": "code",
   "execution_count": 365,
   "metadata": {},
   "outputs": [
    {
     "data": {
      "text/html": [
       "<div>\n",
       "<style scoped>\n",
       "    .dataframe tbody tr th:only-of-type {\n",
       "        vertical-align: middle;\n",
       "    }\n",
       "\n",
       "    .dataframe tbody tr th {\n",
       "        vertical-align: top;\n",
       "    }\n",
       "\n",
       "    .dataframe thead th {\n",
       "        text-align: right;\n",
       "    }\n",
       "</style>\n",
       "<table border=\"1\" class=\"dataframe\">\n",
       "  <thead>\n",
       "    <tr style=\"text-align: right;\">\n",
       "      <th></th>\n",
       "      <th>Unnamed: 0</th>\n",
       "      <th>event_id</th>\n",
       "      <th>event_type</th>\n",
       "      <th>result</th>\n",
       "      <th>success</th>\n",
       "      <th>period_id</th>\n",
       "      <th>timestamp</th>\n",
       "      <th>end_timestamp</th>\n",
       "      <th>ball_state</th>\n",
       "      <th>ball_owning_team</th>\n",
       "      <th>...</th>\n",
       "      <th>coordinates_y</th>\n",
       "      <th>end_coordinates_x</th>\n",
       "      <th>end_coordinates_y</th>\n",
       "      <th>receiver_player_id</th>\n",
       "      <th>set_piece_type</th>\n",
       "      <th>body_part_type</th>\n",
       "      <th>pass_type</th>\n",
       "      <th>shot_distance</th>\n",
       "      <th>shot_angle</th>\n",
       "      <th>xG</th>\n",
       "    </tr>\n",
       "  </thead>\n",
       "  <tbody>\n",
       "    <tr>\n",
       "      <th>76</th>\n",
       "      <td>76</td>\n",
       "      <td>ba46e9d6-e828-4599-952c-39c1f7d22659</td>\n",
       "      <td>SHOT</td>\n",
       "      <td>OFF_TARGET</td>\n",
       "      <td>False</td>\n",
       "      <td>1</td>\n",
       "      <td>261.052</td>\n",
       "      <td>NaN</td>\n",
       "      <td>alive</td>\n",
       "      <td>Hoffenheim</td>\n",
       "      <td>...</td>\n",
       "      <td>31.15</td>\n",
       "      <td>NaN</td>\n",
       "      <td>NaN</td>\n",
       "      <td>NaN</td>\n",
       "      <td>NaN</td>\n",
       "      <td>LEFT_FOOT</td>\n",
       "      <td>NaN</td>\n",
       "      <td>14.870272</td>\n",
       "      <td>0.398559</td>\n",
       "      <td>0.139280</td>\n",
       "    </tr>\n",
       "    <tr>\n",
       "      <th>104</th>\n",
       "      <td>104</td>\n",
       "      <td>85d67225-30fb-47c8-b478-cf568941a164</td>\n",
       "      <td>SHOT</td>\n",
       "      <td>GOAL</td>\n",
       "      <td>True</td>\n",
       "      <td>1</td>\n",
       "      <td>387.395</td>\n",
       "      <td>NaN</td>\n",
       "      <td>alive</td>\n",
       "      <td>Schalke 04</td>\n",
       "      <td>...</td>\n",
       "      <td>42.55</td>\n",
       "      <td>NaN</td>\n",
       "      <td>NaN</td>\n",
       "      <td>NaN</td>\n",
       "      <td>NaN</td>\n",
       "      <td>RIGHT_FOOT</td>\n",
       "      <td>NaN</td>\n",
       "      <td>9.498684</td>\n",
       "      <td>0.717001</td>\n",
       "      <td>0.341579</td>\n",
       "    </tr>\n",
       "    <tr>\n",
       "      <th>119</th>\n",
       "      <td>119</td>\n",
       "      <td>adac17d3-5e67-4e8c-b482-4bae2f36e06e</td>\n",
       "      <td>SHOT</td>\n",
       "      <td>BLOCKED</td>\n",
       "      <td>False</td>\n",
       "      <td>1</td>\n",
       "      <td>496.762</td>\n",
       "      <td>NaN</td>\n",
       "      <td>alive</td>\n",
       "      <td>Hoffenheim</td>\n",
       "      <td>...</td>\n",
       "      <td>29.05</td>\n",
       "      <td>NaN</td>\n",
       "      <td>NaN</td>\n",
       "      <td>NaN</td>\n",
       "      <td>NaN</td>\n",
       "      <td>LEFT_FOOT</td>\n",
       "      <td>NaN</td>\n",
       "      <td>11.159077</td>\n",
       "      <td>0.140683</td>\n",
       "      <td>0.128704</td>\n",
       "    </tr>\n",
       "    <tr>\n",
       "      <th>178</th>\n",
       "      <td>178</td>\n",
       "      <td>abffd193-62bc-4c8d-8636-1e3f0f0ebbe5</td>\n",
       "      <td>SHOT</td>\n",
       "      <td>GOAL</td>\n",
       "      <td>True</td>\n",
       "      <td>1</td>\n",
       "      <td>835.721</td>\n",
       "      <td>NaN</td>\n",
       "      <td>alive</td>\n",
       "      <td>Schalke 04</td>\n",
       "      <td>...</td>\n",
       "      <td>27.55</td>\n",
       "      <td>NaN</td>\n",
       "      <td>NaN</td>\n",
       "      <td>NaN</td>\n",
       "      <td>NaN</td>\n",
       "      <td>LEFT_FOOT</td>\n",
       "      <td>NaN</td>\n",
       "      <td>22.092193</td>\n",
       "      <td>0.274342</td>\n",
       "      <td>0.058857</td>\n",
       "    </tr>\n",
       "    <tr>\n",
       "      <th>217</th>\n",
       "      <td>217</td>\n",
       "      <td>d9cea903-f92a-40e1-a393-1a849d83f157</td>\n",
       "      <td>SHOT</td>\n",
       "      <td>SAVED</td>\n",
       "      <td>False</td>\n",
       "      <td>1</td>\n",
       "      <td>1036.953</td>\n",
       "      <td>NaN</td>\n",
       "      <td>alive</td>\n",
       "      <td>Schalke 04</td>\n",
       "      <td>...</td>\n",
       "      <td>26.45</td>\n",
       "      <td>NaN</td>\n",
       "      <td>NaN</td>\n",
       "      <td>NaN</td>\n",
       "      <td>NaN</td>\n",
       "      <td>RIGHT_FOOT</td>\n",
       "      <td>NaN</td>\n",
       "      <td>17.296387</td>\n",
       "      <td>0.268703</td>\n",
       "      <td>0.095441</td>\n",
       "    </tr>\n",
       "  </tbody>\n",
       "</table>\n",
       "<p>5 rows × 23 columns</p>\n",
       "</div>"
      ],
      "text/plain": [
       "     Unnamed: 0                              event_id event_type      result  \\\n",
       "76           76  ba46e9d6-e828-4599-952c-39c1f7d22659       SHOT  OFF_TARGET   \n",
       "104         104  85d67225-30fb-47c8-b478-cf568941a164       SHOT        GOAL   \n",
       "119         119  adac17d3-5e67-4e8c-b482-4bae2f36e06e       SHOT     BLOCKED   \n",
       "178         178  abffd193-62bc-4c8d-8636-1e3f0f0ebbe5       SHOT        GOAL   \n",
       "217         217  d9cea903-f92a-40e1-a393-1a849d83f157       SHOT       SAVED   \n",
       "\n",
       "    success  period_id  timestamp  end_timestamp ball_state ball_owning_team  \\\n",
       "76    False          1    261.052            NaN      alive       Hoffenheim   \n",
       "104    True          1    387.395            NaN      alive       Schalke 04   \n",
       "119   False          1    496.762            NaN      alive       Hoffenheim   \n",
       "178    True          1    835.721            NaN      alive       Schalke 04   \n",
       "217   False          1   1036.953            NaN      alive       Schalke 04   \n",
       "\n",
       "     ... coordinates_y end_coordinates_x  end_coordinates_y  \\\n",
       "76   ...         31.15               NaN                NaN   \n",
       "104  ...         42.55               NaN                NaN   \n",
       "119  ...         29.05               NaN                NaN   \n",
       "178  ...         27.55               NaN                NaN   \n",
       "217  ...         26.45               NaN                NaN   \n",
       "\n",
       "     receiver_player_id  set_piece_type  body_part_type  pass_type  \\\n",
       "76                  NaN             NaN       LEFT_FOOT        NaN   \n",
       "104                 NaN             NaN      RIGHT_FOOT        NaN   \n",
       "119                 NaN             NaN       LEFT_FOOT        NaN   \n",
       "178                 NaN             NaN       LEFT_FOOT        NaN   \n",
       "217                 NaN             NaN      RIGHT_FOOT        NaN   \n",
       "\n",
       "    shot_distance shot_angle        xG  \n",
       "76      14.870272   0.398559  0.139280  \n",
       "104      9.498684   0.717001  0.341579  \n",
       "119     11.159077   0.140683  0.128704  \n",
       "178     22.092193   0.274342  0.058857  \n",
       "217     17.296387   0.268703  0.095441  \n",
       "\n",
       "[5 rows x 23 columns]"
      ]
     },
     "execution_count": 365,
     "metadata": {},
     "output_type": "execute_result"
    }
   ],
   "source": [
    "df_shot['xG'] = lr.predict_proba(X)[:,1]\n",
    "df_shot.head()"
   ]
  },
  {
   "cell_type": "code",
   "execution_count": 370,
   "metadata": {},
   "outputs": [
    {
     "name": "stdout",
     "output_type": "stream",
     "text": [
      "<class 'pandas.core.frame.DataFrame'>\n",
      "Int64Index: 50451 entries, 76 to 100829\n",
      "Data columns (total 23 columns):\n",
      " #   Column              Non-Null Count  Dtype  \n",
      "---  ------              --------------  -----  \n",
      " 0   Unnamed: 0          50451 non-null  int64  \n",
      " 1   event_id            50451 non-null  object \n",
      " 2   event_type          50451 non-null  object \n",
      " 3   result              50451 non-null  object \n",
      " 4   success             50451 non-null  object \n",
      " 5   period_id           50451 non-null  int64  \n",
      " 6   timestamp           50451 non-null  float64\n",
      " 7   end_timestamp       0 non-null      float64\n",
      " 8   ball_state          50451 non-null  object \n",
      " 9   ball_owning_team    50451 non-null  object \n",
      " 10  team_id             50451 non-null  object \n",
      " 11  player_id           50451 non-null  object \n",
      " 12  coordinates_x       50451 non-null  float64\n",
      " 13  coordinates_y       50451 non-null  float64\n",
      " 14  end_coordinates_x   0 non-null      float64\n",
      " 15  end_coordinates_y   0 non-null      float64\n",
      " 16  receiver_player_id  0 non-null      float64\n",
      " 17  set_piece_type      0 non-null      object \n",
      " 18  body_part_type      50451 non-null  object \n",
      " 19  pass_type           0 non-null      object \n",
      " 20  shot_distance       50451 non-null  float64\n",
      " 21  shot_angle          50451 non-null  float64\n",
      " 22  xG                  50451 non-null  float64\n",
      "dtypes: float64(10), int64(2), object(11)\n",
      "memory usage: 10.2+ MB\n"
     ]
    }
   ],
   "source": [
    "df_shot.info()"
   ]
  },
  {
   "attachments": {},
   "cell_type": "markdown",
   "metadata": {},
   "source": [
    "#### Analysis of player xG"
   ]
  },
  {
   "cell_type": "code",
   "execution_count": 389,
   "metadata": {},
   "outputs": [],
   "source": [
    "import plotly.graph_objs as go\n",
    "import plotly.express as px"
   ]
  },
  {
   "cell_type": "code",
   "execution_count": 343,
   "metadata": {},
   "outputs": [],
   "source": [
    "player_shot_df = df_shot.groupby('player_id').count().sort_values(by='event_id', ascending=False)['event_id']"
   ]
  },
  {
   "attachments": {},
   "cell_type": "markdown",
   "metadata": {},
   "source": [
    "##### 100 > attempt"
   ]
  },
  {
   "cell_type": "code",
   "execution_count": 374,
   "metadata": {},
   "outputs": [],
   "source": [
    "df_shot_filtered = df_shot[df_shot['player_id'].isin(player_shot_df[player_shot_df > 100].index)]"
   ]
  },
  {
   "cell_type": "code",
   "execution_count": 375,
   "metadata": {},
   "outputs": [
    {
     "data": {
      "text/plain": [
       "player_id\n",
       "Alexis Alejandro Sánchez Sánchez       0.139367\n",
       "Andrés Iniesta Luján                   0.087407\n",
       "Anthony Modeste                        0.134621\n",
       "Antoine Griezmann                      0.136636\n",
       "Aritz Aduriz Zubeldia                  0.152940\n",
       "Bojan Krkíc Pérez                      0.124407\n",
       "Christian Dannemann Eriksen            0.055539\n",
       "Cristiano Ronaldo dos Santos Aveiro    0.108878\n",
       "Daniel Alves da Silva                  0.052641\n",
       "David Villa Sánchez                    0.113637\n",
       "Fabio Quagliarella                     0.111897\n",
       "Francesc Fàbregas i Soler              0.116539\n",
       "Franco Damián Vázquez                  0.092439\n",
       "Gareth Frank Bale                      0.102288\n",
       "Gerard Piqué Bernabéu                  0.176235\n",
       "Giacomo Bonaventura                    0.078048\n",
       "Gnégnéri Yaya Touré                    0.076652\n",
       "Gonzalo Gerardo Higuaín                0.135635\n",
       "Harry Kane                             0.126291\n",
       "Iago Aspas Juncal                      0.145659\n",
       "Ivan Rakitić                           0.083553\n",
       "Jamie Vardy                            0.154837\n",
       "Karim Benzema                          0.182795\n",
       "Lionel Andrés Messi Cuccittini         0.126277\n",
       "Lorenzo Insigne                        0.070385\n",
       "Lucas Pérez Martínez                   0.130185\n",
       "Luis Alberto Suárez Díaz               0.165343\n",
       "Neymar da Silva Santos Junior          0.150243\n",
       "Odion Jude Ighalo                      0.166724\n",
       "Olivier Giroud                         0.151400\n",
       "Ousmane Dembélé                        0.110669\n",
       "Paul Pogba                             0.072596\n",
       "Paulo Bruno Exequiel Dybala            0.105286\n",
       "Pedro Eliezer Rodríguez Ledesma        0.140854\n",
       "Philippe Coutinho Correia              0.088249\n",
       "Pierre-Emerick Aubameyang              0.199554\n",
       "Raúl García Escudero                   0.094772\n",
       "Robert Lewandowski                     0.166453\n",
       "Romelu Lukaku Menama                   0.167061\n",
       "Ronaldo de Assis Moreira               0.076340\n",
       "Rubén Castro Martín                    0.129623\n",
       "Samuel Eto''o Fils                     0.171454\n",
       "Sergio Leonel Agüero del Castillo      0.143830\n",
       "Thierry Henry                          0.111105\n",
       "Thomas Müller                          0.160173\n",
       "Xavier Hernández Creus                 0.087262\n",
       "Name: xG, dtype: float64"
      ]
     },
     "execution_count": 375,
     "metadata": {},
     "output_type": "execute_result"
    }
   ],
   "source": [
    "df_shot_filtered.groupby('player_id').mean()['xG']"
   ]
  },
  {
   "cell_type": "code",
   "execution_count": 383,
   "metadata": {},
   "outputs": [
    {
     "data": {
      "text/plain": [
       "player_id\n",
       "Alexis Alejandro Sánchez Sánchez       0.183406\n",
       "Andrés Iniesta Luján                   0.067204\n",
       "Anthony Modeste                        0.135135\n",
       "Antoine Griezmann                      0.182203\n",
       "Aritz Aduriz Zubeldia                  0.169231\n",
       "Bojan Krkíc Pérez                      0.187050\n",
       "Christian Dannemann Eriksen            0.058824\n",
       "Cristiano Ronaldo dos Santos Aveiro    0.135693\n",
       "Daniel Alves da Silva                  0.064655\n",
       "David Villa Sánchez                    0.168367\n",
       "Fabio Quagliarella                     0.079208\n",
       "Francesc Fàbregas i Soler              0.155280\n",
       "Franco Damián Vázquez                  0.077586\n",
       "Gareth Frank Bale                      0.207207\n",
       "Gerard Piqué Bernabéu                  0.137363\n",
       "Giacomo Bonaventura                    0.056604\n",
       "Gnégnéri Yaya Touré                    0.079646\n",
       "Gonzalo Gerardo Higuaín                0.193878\n",
       "Harry Kane                             0.157233\n",
       "Iago Aspas Juncal                      0.166667\n",
       "Ivan Rakitić                           0.122642\n",
       "Jamie Vardy                            0.203390\n",
       "Karim Benzema                          0.197452\n",
       "Lionel Andrés Messi Cuccittini         0.201183\n",
       "Lorenzo Insigne                        0.088889\n",
       "Lucas Pérez Martínez                   0.175926\n",
       "Luis Alberto Suárez Díaz               0.220779\n",
       "Neymar da Silva Santos Junior          0.176638\n",
       "Odion Jude Ighalo                      0.142857\n",
       "Olivier Giroud                         0.155340\n",
       "Ousmane Dembélé                        0.158416\n",
       "Paul Pogba                             0.063492\n",
       "Paulo Bruno Exequiel Dybala            0.177570\n",
       "Pedro Eliezer Rodríguez Ledesma        0.176656\n",
       "Philippe Coutinho Correia              0.077922\n",
       "Pierre-Emerick Aubameyang              0.213675\n",
       "Raúl García Escudero                   0.075630\n",
       "Robert Lewandowski                     0.197368\n",
       "Romelu Lukaku Menama                   0.155172\n",
       "Ronaldo de Assis Moreira               0.150000\n",
       "Rubén Castro Martín                    0.213115\n",
       "Samuel Eto''o Fils                     0.217105\n",
       "Sergio Leonel Agüero del Castillo      0.207143\n",
       "Thierry Henry                          0.171662\n",
       "Thomas Müller                          0.205882\n",
       "Xavier Hernández Creus                 0.113924\n",
       "Name: event_id, dtype: float64"
      ]
     },
     "execution_count": 383,
     "metadata": {},
     "output_type": "execute_result"
    }
   ],
   "source": [
    "df_shot_filtered[df_shot_filtered['result']=='GOAL'].groupby('player_id').count()['event_id'] / df_shot_filtered.groupby('player_id').count()['event_id'] "
   ]
  },
  {
   "cell_type": "code",
   "execution_count": 387,
   "metadata": {},
   "outputs": [],
   "source": [
    "df1 = pd.concat([df_shot_filtered.groupby('player_id').mean()['xG'],\n",
    "           df_shot_filtered[df_shot_filtered['result']=='GOAL'].groupby('player_id').count()['event_id'] / df_shot_filtered.groupby('player_id').count()['event_id']],\n",
    "           axis = 1)\n",
    "df1.columns = ['xG', 'goal per shot']\n"
   ]
  },
  {
   "cell_type": "markdown",
   "metadata": {},
   "source": []
  },
  {
   "cell_type": "code",
   "execution_count": 391,
   "metadata": {},
   "outputs": [
    {
     "data": {
      "text/html": [
       "<div>\n",
       "<style scoped>\n",
       "    .dataframe tbody tr th:only-of-type {\n",
       "        vertical-align: middle;\n",
       "    }\n",
       "\n",
       "    .dataframe tbody tr th {\n",
       "        vertical-align: top;\n",
       "    }\n",
       "\n",
       "    .dataframe thead th {\n",
       "        text-align: right;\n",
       "    }\n",
       "</style>\n",
       "<table border=\"1\" class=\"dataframe\">\n",
       "  <thead>\n",
       "    <tr style=\"text-align: right;\">\n",
       "      <th></th>\n",
       "      <th>xG</th>\n",
       "      <th>goal per shot</th>\n",
       "    </tr>\n",
       "    <tr>\n",
       "      <th>player_id</th>\n",
       "      <th></th>\n",
       "      <th></th>\n",
       "    </tr>\n",
       "  </thead>\n",
       "  <tbody>\n",
       "    <tr>\n",
       "      <th>Alexis Alejandro Sánchez Sánchez</th>\n",
       "      <td>0.139367</td>\n",
       "      <td>0.183406</td>\n",
       "    </tr>\n",
       "    <tr>\n",
       "      <th>Andrés Iniesta Luján</th>\n",
       "      <td>0.087407</td>\n",
       "      <td>0.067204</td>\n",
       "    </tr>\n",
       "    <tr>\n",
       "      <th>Anthony Modeste</th>\n",
       "      <td>0.134621</td>\n",
       "      <td>0.135135</td>\n",
       "    </tr>\n",
       "    <tr>\n",
       "      <th>Antoine Griezmann</th>\n",
       "      <td>0.136636</td>\n",
       "      <td>0.182203</td>\n",
       "    </tr>\n",
       "    <tr>\n",
       "      <th>Aritz Aduriz Zubeldia</th>\n",
       "      <td>0.152940</td>\n",
       "      <td>0.169231</td>\n",
       "    </tr>\n",
       "  </tbody>\n",
       "</table>\n",
       "</div>"
      ],
      "text/plain": [
       "                                        xG  goal per shot\n",
       "player_id                                                \n",
       "Alexis Alejandro Sánchez Sánchez  0.139367       0.183406\n",
       "Andrés Iniesta Luján              0.087407       0.067204\n",
       "Anthony Modeste                   0.134621       0.135135\n",
       "Antoine Griezmann                 0.136636       0.182203\n",
       "Aritz Aduriz Zubeldia             0.152940       0.169231"
      ]
     },
     "execution_count": 391,
     "metadata": {},
     "output_type": "execute_result"
    }
   ],
   "source": [
    "df1.head()"
   ]
  },
  {
   "cell_type": "code",
   "execution_count": 425,
   "metadata": {},
   "outputs": [
    {
     "data": {
      "text/html": [
       "<div>\n",
       "<style scoped>\n",
       "    .dataframe tbody tr th:only-of-type {\n",
       "        vertical-align: middle;\n",
       "    }\n",
       "\n",
       "    .dataframe tbody tr th {\n",
       "        vertical-align: top;\n",
       "    }\n",
       "\n",
       "    .dataframe thead th {\n",
       "        text-align: right;\n",
       "    }\n",
       "</style>\n",
       "<table border=\"1\" class=\"dataframe\">\n",
       "  <thead>\n",
       "    <tr style=\"text-align: right;\">\n",
       "      <th></th>\n",
       "      <th>xG</th>\n",
       "      <th>goal per shot</th>\n",
       "    </tr>\n",
       "    <tr>\n",
       "      <th>player_id</th>\n",
       "      <th></th>\n",
       "      <th></th>\n",
       "    </tr>\n",
       "  </thead>\n",
       "  <tbody>\n",
       "    <tr>\n",
       "      <th>Alexis Alejandro Sánchez Sánchez</th>\n",
       "      <td>0.139367</td>\n",
       "      <td>0.183406</td>\n",
       "    </tr>\n",
       "    <tr>\n",
       "      <th>Andrés Iniesta Luján</th>\n",
       "      <td>0.087407</td>\n",
       "      <td>0.067204</td>\n",
       "    </tr>\n",
       "    <tr>\n",
       "      <th>Anthony Modeste</th>\n",
       "      <td>0.134621</td>\n",
       "      <td>0.135135</td>\n",
       "    </tr>\n",
       "    <tr>\n",
       "      <th>Antoine Griezmann</th>\n",
       "      <td>0.136636</td>\n",
       "      <td>0.182203</td>\n",
       "    </tr>\n",
       "    <tr>\n",
       "      <th>Aritz Aduriz Zubeldia</th>\n",
       "      <td>0.152940</td>\n",
       "      <td>0.169231</td>\n",
       "    </tr>\n",
       "    <tr>\n",
       "      <th>Bojan Krkíc Pérez</th>\n",
       "      <td>0.124407</td>\n",
       "      <td>0.187050</td>\n",
       "    </tr>\n",
       "    <tr>\n",
       "      <th>Christian Dannemann Eriksen</th>\n",
       "      <td>0.055539</td>\n",
       "      <td>0.058824</td>\n",
       "    </tr>\n",
       "    <tr>\n",
       "      <th>Cristiano Ronaldo dos Santos Aveiro</th>\n",
       "      <td>0.108878</td>\n",
       "      <td>0.135693</td>\n",
       "    </tr>\n",
       "    <tr>\n",
       "      <th>Daniel Alves da Silva</th>\n",
       "      <td>0.052641</td>\n",
       "      <td>0.064655</td>\n",
       "    </tr>\n",
       "    <tr>\n",
       "      <th>David Villa Sánchez</th>\n",
       "      <td>0.113637</td>\n",
       "      <td>0.168367</td>\n",
       "    </tr>\n",
       "    <tr>\n",
       "      <th>Fabio Quagliarella</th>\n",
       "      <td>0.111897</td>\n",
       "      <td>0.079208</td>\n",
       "    </tr>\n",
       "    <tr>\n",
       "      <th>Francesc Fàbregas i Soler</th>\n",
       "      <td>0.116539</td>\n",
       "      <td>0.155280</td>\n",
       "    </tr>\n",
       "    <tr>\n",
       "      <th>Franco Damián Vázquez</th>\n",
       "      <td>0.092439</td>\n",
       "      <td>0.077586</td>\n",
       "    </tr>\n",
       "    <tr>\n",
       "      <th>Gareth Frank Bale</th>\n",
       "      <td>0.102288</td>\n",
       "      <td>0.207207</td>\n",
       "    </tr>\n",
       "    <tr>\n",
       "      <th>Gerard Piqué Bernabéu</th>\n",
       "      <td>0.176235</td>\n",
       "      <td>0.137363</td>\n",
       "    </tr>\n",
       "    <tr>\n",
       "      <th>Giacomo Bonaventura</th>\n",
       "      <td>0.078048</td>\n",
       "      <td>0.056604</td>\n",
       "    </tr>\n",
       "    <tr>\n",
       "      <th>Gnégnéri Yaya Touré</th>\n",
       "      <td>0.076652</td>\n",
       "      <td>0.079646</td>\n",
       "    </tr>\n",
       "    <tr>\n",
       "      <th>Gonzalo Gerardo Higuaín</th>\n",
       "      <td>0.135635</td>\n",
       "      <td>0.193878</td>\n",
       "    </tr>\n",
       "    <tr>\n",
       "      <th>Harry Kane</th>\n",
       "      <td>0.126291</td>\n",
       "      <td>0.157233</td>\n",
       "    </tr>\n",
       "    <tr>\n",
       "      <th>Iago Aspas Juncal</th>\n",
       "      <td>0.145659</td>\n",
       "      <td>0.166667</td>\n",
       "    </tr>\n",
       "    <tr>\n",
       "      <th>Ivan Rakitić</th>\n",
       "      <td>0.083553</td>\n",
       "      <td>0.122642</td>\n",
       "    </tr>\n",
       "    <tr>\n",
       "      <th>Jamie Vardy</th>\n",
       "      <td>0.154837</td>\n",
       "      <td>0.203390</td>\n",
       "    </tr>\n",
       "    <tr>\n",
       "      <th>Karim Benzema</th>\n",
       "      <td>0.182795</td>\n",
       "      <td>0.197452</td>\n",
       "    </tr>\n",
       "    <tr>\n",
       "      <th>Lionel Andrés Messi Cuccittini</th>\n",
       "      <td>0.126277</td>\n",
       "      <td>0.201183</td>\n",
       "    </tr>\n",
       "    <tr>\n",
       "      <th>Lorenzo Insigne</th>\n",
       "      <td>0.070385</td>\n",
       "      <td>0.088889</td>\n",
       "    </tr>\n",
       "    <tr>\n",
       "      <th>Lucas Pérez Martínez</th>\n",
       "      <td>0.130185</td>\n",
       "      <td>0.175926</td>\n",
       "    </tr>\n",
       "    <tr>\n",
       "      <th>Luis Alberto Suárez Díaz</th>\n",
       "      <td>0.165343</td>\n",
       "      <td>0.220779</td>\n",
       "    </tr>\n",
       "    <tr>\n",
       "      <th>Neymar da Silva Santos Junior</th>\n",
       "      <td>0.150243</td>\n",
       "      <td>0.176638</td>\n",
       "    </tr>\n",
       "    <tr>\n",
       "      <th>Odion Jude Ighalo</th>\n",
       "      <td>0.166724</td>\n",
       "      <td>0.142857</td>\n",
       "    </tr>\n",
       "    <tr>\n",
       "      <th>Olivier Giroud</th>\n",
       "      <td>0.151400</td>\n",
       "      <td>0.155340</td>\n",
       "    </tr>\n",
       "    <tr>\n",
       "      <th>Ousmane Dembélé</th>\n",
       "      <td>0.110669</td>\n",
       "      <td>0.158416</td>\n",
       "    </tr>\n",
       "    <tr>\n",
       "      <th>Paul Pogba</th>\n",
       "      <td>0.072596</td>\n",
       "      <td>0.063492</td>\n",
       "    </tr>\n",
       "    <tr>\n",
       "      <th>Paulo Bruno Exequiel Dybala</th>\n",
       "      <td>0.105286</td>\n",
       "      <td>0.177570</td>\n",
       "    </tr>\n",
       "    <tr>\n",
       "      <th>Pedro Eliezer Rodríguez Ledesma</th>\n",
       "      <td>0.140854</td>\n",
       "      <td>0.176656</td>\n",
       "    </tr>\n",
       "    <tr>\n",
       "      <th>Philippe Coutinho Correia</th>\n",
       "      <td>0.088249</td>\n",
       "      <td>0.077922</td>\n",
       "    </tr>\n",
       "    <tr>\n",
       "      <th>Pierre-Emerick Aubameyang</th>\n",
       "      <td>0.199554</td>\n",
       "      <td>0.213675</td>\n",
       "    </tr>\n",
       "    <tr>\n",
       "      <th>Raúl García Escudero</th>\n",
       "      <td>0.094772</td>\n",
       "      <td>0.075630</td>\n",
       "    </tr>\n",
       "    <tr>\n",
       "      <th>Robert Lewandowski</th>\n",
       "      <td>0.166453</td>\n",
       "      <td>0.197368</td>\n",
       "    </tr>\n",
       "    <tr>\n",
       "      <th>Romelu Lukaku Menama</th>\n",
       "      <td>0.167061</td>\n",
       "      <td>0.155172</td>\n",
       "    </tr>\n",
       "    <tr>\n",
       "      <th>Ronaldo de Assis Moreira</th>\n",
       "      <td>0.076340</td>\n",
       "      <td>0.150000</td>\n",
       "    </tr>\n",
       "    <tr>\n",
       "      <th>Rubén Castro Martín</th>\n",
       "      <td>0.129623</td>\n",
       "      <td>0.213115</td>\n",
       "    </tr>\n",
       "    <tr>\n",
       "      <th>Samuel Eto''o Fils</th>\n",
       "      <td>0.171454</td>\n",
       "      <td>0.217105</td>\n",
       "    </tr>\n",
       "    <tr>\n",
       "      <th>Sergio Leonel Agüero del Castillo</th>\n",
       "      <td>0.143830</td>\n",
       "      <td>0.207143</td>\n",
       "    </tr>\n",
       "    <tr>\n",
       "      <th>Thierry Henry</th>\n",
       "      <td>0.111105</td>\n",
       "      <td>0.171662</td>\n",
       "    </tr>\n",
       "    <tr>\n",
       "      <th>Thomas Müller</th>\n",
       "      <td>0.160173</td>\n",
       "      <td>0.205882</td>\n",
       "    </tr>\n",
       "    <tr>\n",
       "      <th>Xavier Hernández Creus</th>\n",
       "      <td>0.087262</td>\n",
       "      <td>0.113924</td>\n",
       "    </tr>\n",
       "  </tbody>\n",
       "</table>\n",
       "</div>"
      ],
      "text/plain": [
       "                                           xG  goal per shot\n",
       "player_id                                                   \n",
       "Alexis Alejandro Sánchez Sánchez     0.139367       0.183406\n",
       "Andrés Iniesta Luján                 0.087407       0.067204\n",
       "Anthony Modeste                      0.134621       0.135135\n",
       "Antoine Griezmann                    0.136636       0.182203\n",
       "Aritz Aduriz Zubeldia                0.152940       0.169231\n",
       "Bojan Krkíc Pérez                    0.124407       0.187050\n",
       "Christian Dannemann Eriksen          0.055539       0.058824\n",
       "Cristiano Ronaldo dos Santos Aveiro  0.108878       0.135693\n",
       "Daniel Alves da Silva                0.052641       0.064655\n",
       "David Villa Sánchez                  0.113637       0.168367\n",
       "Fabio Quagliarella                   0.111897       0.079208\n",
       "Francesc Fàbregas i Soler            0.116539       0.155280\n",
       "Franco Damián Vázquez                0.092439       0.077586\n",
       "Gareth Frank Bale                    0.102288       0.207207\n",
       "Gerard Piqué Bernabéu                0.176235       0.137363\n",
       "Giacomo Bonaventura                  0.078048       0.056604\n",
       "Gnégnéri Yaya Touré                  0.076652       0.079646\n",
       "Gonzalo Gerardo Higuaín              0.135635       0.193878\n",
       "Harry Kane                           0.126291       0.157233\n",
       "Iago Aspas Juncal                    0.145659       0.166667\n",
       "Ivan Rakitić                         0.083553       0.122642\n",
       "Jamie Vardy                          0.154837       0.203390\n",
       "Karim Benzema                        0.182795       0.197452\n",
       "Lionel Andrés Messi Cuccittini       0.126277       0.201183\n",
       "Lorenzo Insigne                      0.070385       0.088889\n",
       "Lucas Pérez Martínez                 0.130185       0.175926\n",
       "Luis Alberto Suárez Díaz             0.165343       0.220779\n",
       "Neymar da Silva Santos Junior        0.150243       0.176638\n",
       "Odion Jude Ighalo                    0.166724       0.142857\n",
       "Olivier Giroud                       0.151400       0.155340\n",
       "Ousmane Dembélé                      0.110669       0.158416\n",
       "Paul Pogba                           0.072596       0.063492\n",
       "Paulo Bruno Exequiel Dybala          0.105286       0.177570\n",
       "Pedro Eliezer Rodríguez Ledesma      0.140854       0.176656\n",
       "Philippe Coutinho Correia            0.088249       0.077922\n",
       "Pierre-Emerick Aubameyang            0.199554       0.213675\n",
       "Raúl García Escudero                 0.094772       0.075630\n",
       "Robert Lewandowski                   0.166453       0.197368\n",
       "Romelu Lukaku Menama                 0.167061       0.155172\n",
       "Ronaldo de Assis Moreira             0.076340       0.150000\n",
       "Rubén Castro Martín                  0.129623       0.213115\n",
       "Samuel Eto''o Fils                   0.171454       0.217105\n",
       "Sergio Leonel Agüero del Castillo    0.143830       0.207143\n",
       "Thierry Henry                        0.111105       0.171662\n",
       "Thomas Müller                        0.160173       0.205882\n",
       "Xavier Hernández Creus               0.087262       0.113924"
      ]
     },
     "execution_count": 425,
     "metadata": {},
     "output_type": "execute_result"
    }
   ],
   "source": [
    "df1"
   ]
  },
  {
   "cell_type": "code",
   "execution_count": 447,
   "metadata": {},
   "outputs": [
    {
     "data": {
      "application/vnd.plotly.v1+json": {
       "config": {
        "plotlyServerURL": "https://plot.ly"
       },
       "data": [
        {
         "customdata": [
          [
           "Alexis Alejandro Sánchez Sánchez"
          ],
          [
           "Andrés Iniesta Luján"
          ],
          [
           "Anthony Modeste"
          ],
          [
           "Antoine Griezmann"
          ],
          [
           "Aritz Aduriz Zubeldia"
          ],
          [
           "Bojan Krkíc Pérez"
          ],
          [
           "Christian Dannemann Eriksen"
          ],
          [
           "Cristiano Ronaldo dos Santos Aveiro"
          ],
          [
           "Daniel Alves da Silva"
          ],
          [
           "David Villa Sánchez"
          ],
          [
           "Fabio Quagliarella"
          ],
          [
           "Francesc Fàbregas i Soler"
          ],
          [
           "Franco Damián Vázquez"
          ],
          [
           "Gareth Frank Bale"
          ],
          [
           "Gerard Piqué Bernabéu"
          ],
          [
           "Giacomo Bonaventura"
          ],
          [
           "Gnégnéri Yaya Touré"
          ],
          [
           "Gonzalo Gerardo Higuaín"
          ],
          [
           "Harry Kane"
          ],
          [
           "Iago Aspas Juncal"
          ],
          [
           "Ivan Rakitić"
          ],
          [
           "Jamie Vardy"
          ],
          [
           "Karim Benzema"
          ],
          [
           "Lionel Andrés Messi Cuccittini"
          ],
          [
           "Lorenzo Insigne"
          ],
          [
           "Lucas Pérez Martínez"
          ],
          [
           "Luis Alberto Suárez Díaz"
          ],
          [
           "Neymar da Silva Santos Junior"
          ],
          [
           "Odion Jude Ighalo"
          ],
          [
           "Olivier Giroud"
          ],
          [
           "Ousmane Dembélé"
          ],
          [
           "Paul Pogba"
          ],
          [
           "Paulo Bruno Exequiel Dybala"
          ],
          [
           "Pedro Eliezer Rodríguez Ledesma"
          ],
          [
           "Philippe Coutinho Correia"
          ],
          [
           "Pierre-Emerick Aubameyang"
          ],
          [
           "Raúl García Escudero"
          ],
          [
           "Robert Lewandowski"
          ],
          [
           "Romelu Lukaku Menama"
          ],
          [
           "Ronaldo de Assis Moreira"
          ],
          [
           "Rubén Castro Martín"
          ],
          [
           "Samuel Eto''o Fils"
          ],
          [
           "Sergio Leonel Agüero del Castillo"
          ],
          [
           "Thierry Henry"
          ],
          [
           "Thomas Müller"
          ],
          [
           "Xavier Hernández Creus"
          ]
         ],
         "hovertemplate": "player : %{customdata} <br><br>xG : %{y} <br>G/Shot : %{x}",
         "legendgroup": "",
         "marker": {
          "color": "#636efa",
          "symbol": "circle"
         },
         "mode": "markers",
         "name": "",
         "orientation": "v",
         "showlegend": false,
         "type": "scatter",
         "x": [
          0.18340611353711792,
          0.06720430107526881,
          0.13513513513513514,
          0.18220338983050846,
          0.16923076923076924,
          0.18705035971223022,
          0.058823529411764705,
          0.13569321533923304,
          0.06465517241379311,
          0.1683673469387755,
          0.07920792079207921,
          0.15527950310559005,
          0.07758620689655173,
          0.2072072072072072,
          0.13736263736263737,
          0.05660377358490566,
          0.07964601769911504,
          0.19387755102040816,
          0.15723270440251572,
          0.16666666666666666,
          0.12264150943396226,
          0.2033898305084746,
          0.19745222929936307,
          0.20118343195266272,
          0.08888888888888889,
          0.17592592592592593,
          0.22077922077922077,
          0.17663817663817663,
          0.14285714285714285,
          0.1553398058252427,
          0.15841584158415842,
          0.06349206349206349,
          0.17757009345794392,
          0.17665615141955837,
          0.07792207792207792,
          0.21367521367521367,
          0.07563025210084033,
          0.19736842105263158,
          0.15517241379310345,
          0.15,
          0.21311475409836064,
          0.21710526315789475,
          0.20714285714285716,
          0.17166212534059946,
          0.20588235294117646,
          0.11392405063291139
         ],
         "xaxis": "x",
         "y": [
          0.139367414063442,
          0.08740690809194791,
          0.13462113820178132,
          0.13663596215479043,
          0.15293982145581855,
          0.12440694376145708,
          0.055538821950545124,
          0.10887820321785864,
          0.052641065010391216,
          0.11363653558713717,
          0.11189696374865021,
          0.11653885066113745,
          0.09243915578521053,
          0.1022876194490083,
          0.1762352110220344,
          0.07804842108120214,
          0.0766524192340176,
          0.13563478985894012,
          0.12629067380869818,
          0.1456591955030823,
          0.08355339673290314,
          0.1548374617719896,
          0.18279463260014797,
          0.12627728494398183,
          0.07038530026089544,
          0.1301852788168145,
          0.16534284058925497,
          0.15024255132983128,
          0.16672412056986033,
          0.15139964400603048,
          0.11066938708774877,
          0.07259610505099526,
          0.10528623379811923,
          0.14085382246527478,
          0.08824920033983928,
          0.19955360503573424,
          0.09477233298201884,
          0.1664530240906053,
          0.1670605975205107,
          0.07634007806514091,
          0.12962253031080648,
          0.1714542852919818,
          0.14383002032706074,
          0.11110473909697961,
          0.1601725375518757,
          0.08726155507658301
         ],
         "yaxis": "y"
        },
        {
         "hovertemplate": "player : %{customdata} <br><br>xG : %{y} <br>G/Shot : %{x}",
         "type": "scatter",
         "x": [
          0,
          0.5
         ],
         "y": [
          0,
          0.5
         ]
        }
       ],
       "layout": {
        "height": 500,
        "legend": {
         "tracegroupgap": 0
        },
        "margin": {
         "t": 60
        },
        "showlegend": false,
        "template": {
         "data": {
          "bar": [
           {
            "error_x": {
             "color": "#2a3f5f"
            },
            "error_y": {
             "color": "#2a3f5f"
            },
            "marker": {
             "line": {
              "color": "#E5ECF6",
              "width": 0.5
             },
             "pattern": {
              "fillmode": "overlay",
              "size": 10,
              "solidity": 0.2
             }
            },
            "type": "bar"
           }
          ],
          "barpolar": [
           {
            "marker": {
             "line": {
              "color": "#E5ECF6",
              "width": 0.5
             },
             "pattern": {
              "fillmode": "overlay",
              "size": 10,
              "solidity": 0.2
             }
            },
            "type": "barpolar"
           }
          ],
          "carpet": [
           {
            "aaxis": {
             "endlinecolor": "#2a3f5f",
             "gridcolor": "white",
             "linecolor": "white",
             "minorgridcolor": "white",
             "startlinecolor": "#2a3f5f"
            },
            "baxis": {
             "endlinecolor": "#2a3f5f",
             "gridcolor": "white",
             "linecolor": "white",
             "minorgridcolor": "white",
             "startlinecolor": "#2a3f5f"
            },
            "type": "carpet"
           }
          ],
          "choropleth": [
           {
            "colorbar": {
             "outlinewidth": 0,
             "ticks": ""
            },
            "type": "choropleth"
           }
          ],
          "contour": [
           {
            "colorbar": {
             "outlinewidth": 0,
             "ticks": ""
            },
            "colorscale": [
             [
              0,
              "#0d0887"
             ],
             [
              0.1111111111111111,
              "#46039f"
             ],
             [
              0.2222222222222222,
              "#7201a8"
             ],
             [
              0.3333333333333333,
              "#9c179e"
             ],
             [
              0.4444444444444444,
              "#bd3786"
             ],
             [
              0.5555555555555556,
              "#d8576b"
             ],
             [
              0.6666666666666666,
              "#ed7953"
             ],
             [
              0.7777777777777778,
              "#fb9f3a"
             ],
             [
              0.8888888888888888,
              "#fdca26"
             ],
             [
              1,
              "#f0f921"
             ]
            ],
            "type": "contour"
           }
          ],
          "contourcarpet": [
           {
            "colorbar": {
             "outlinewidth": 0,
             "ticks": ""
            },
            "type": "contourcarpet"
           }
          ],
          "heatmap": [
           {
            "colorbar": {
             "outlinewidth": 0,
             "ticks": ""
            },
            "colorscale": [
             [
              0,
              "#0d0887"
             ],
             [
              0.1111111111111111,
              "#46039f"
             ],
             [
              0.2222222222222222,
              "#7201a8"
             ],
             [
              0.3333333333333333,
              "#9c179e"
             ],
             [
              0.4444444444444444,
              "#bd3786"
             ],
             [
              0.5555555555555556,
              "#d8576b"
             ],
             [
              0.6666666666666666,
              "#ed7953"
             ],
             [
              0.7777777777777778,
              "#fb9f3a"
             ],
             [
              0.8888888888888888,
              "#fdca26"
             ],
             [
              1,
              "#f0f921"
             ]
            ],
            "type": "heatmap"
           }
          ],
          "heatmapgl": [
           {
            "colorbar": {
             "outlinewidth": 0,
             "ticks": ""
            },
            "colorscale": [
             [
              0,
              "#0d0887"
             ],
             [
              0.1111111111111111,
              "#46039f"
             ],
             [
              0.2222222222222222,
              "#7201a8"
             ],
             [
              0.3333333333333333,
              "#9c179e"
             ],
             [
              0.4444444444444444,
              "#bd3786"
             ],
             [
              0.5555555555555556,
              "#d8576b"
             ],
             [
              0.6666666666666666,
              "#ed7953"
             ],
             [
              0.7777777777777778,
              "#fb9f3a"
             ],
             [
              0.8888888888888888,
              "#fdca26"
             ],
             [
              1,
              "#f0f921"
             ]
            ],
            "type": "heatmapgl"
           }
          ],
          "histogram": [
           {
            "marker": {
             "pattern": {
              "fillmode": "overlay",
              "size": 10,
              "solidity": 0.2
             }
            },
            "type": "histogram"
           }
          ],
          "histogram2d": [
           {
            "colorbar": {
             "outlinewidth": 0,
             "ticks": ""
            },
            "colorscale": [
             [
              0,
              "#0d0887"
             ],
             [
              0.1111111111111111,
              "#46039f"
             ],
             [
              0.2222222222222222,
              "#7201a8"
             ],
             [
              0.3333333333333333,
              "#9c179e"
             ],
             [
              0.4444444444444444,
              "#bd3786"
             ],
             [
              0.5555555555555556,
              "#d8576b"
             ],
             [
              0.6666666666666666,
              "#ed7953"
             ],
             [
              0.7777777777777778,
              "#fb9f3a"
             ],
             [
              0.8888888888888888,
              "#fdca26"
             ],
             [
              1,
              "#f0f921"
             ]
            ],
            "type": "histogram2d"
           }
          ],
          "histogram2dcontour": [
           {
            "colorbar": {
             "outlinewidth": 0,
             "ticks": ""
            },
            "colorscale": [
             [
              0,
              "#0d0887"
             ],
             [
              0.1111111111111111,
              "#46039f"
             ],
             [
              0.2222222222222222,
              "#7201a8"
             ],
             [
              0.3333333333333333,
              "#9c179e"
             ],
             [
              0.4444444444444444,
              "#bd3786"
             ],
             [
              0.5555555555555556,
              "#d8576b"
             ],
             [
              0.6666666666666666,
              "#ed7953"
             ],
             [
              0.7777777777777778,
              "#fb9f3a"
             ],
             [
              0.8888888888888888,
              "#fdca26"
             ],
             [
              1,
              "#f0f921"
             ]
            ],
            "type": "histogram2dcontour"
           }
          ],
          "mesh3d": [
           {
            "colorbar": {
             "outlinewidth": 0,
             "ticks": ""
            },
            "type": "mesh3d"
           }
          ],
          "parcoords": [
           {
            "line": {
             "colorbar": {
              "outlinewidth": 0,
              "ticks": ""
             }
            },
            "type": "parcoords"
           }
          ],
          "pie": [
           {
            "automargin": true,
            "type": "pie"
           }
          ],
          "scatter": [
           {
            "fillpattern": {
             "fillmode": "overlay",
             "size": 10,
             "solidity": 0.2
            },
            "type": "scatter"
           }
          ],
          "scatter3d": [
           {
            "line": {
             "colorbar": {
              "outlinewidth": 0,
              "ticks": ""
             }
            },
            "marker": {
             "colorbar": {
              "outlinewidth": 0,
              "ticks": ""
             }
            },
            "type": "scatter3d"
           }
          ],
          "scattercarpet": [
           {
            "marker": {
             "colorbar": {
              "outlinewidth": 0,
              "ticks": ""
             }
            },
            "type": "scattercarpet"
           }
          ],
          "scattergeo": [
           {
            "marker": {
             "colorbar": {
              "outlinewidth": 0,
              "ticks": ""
             }
            },
            "type": "scattergeo"
           }
          ],
          "scattergl": [
           {
            "marker": {
             "colorbar": {
              "outlinewidth": 0,
              "ticks": ""
             }
            },
            "type": "scattergl"
           }
          ],
          "scattermapbox": [
           {
            "marker": {
             "colorbar": {
              "outlinewidth": 0,
              "ticks": ""
             }
            },
            "type": "scattermapbox"
           }
          ],
          "scatterpolar": [
           {
            "marker": {
             "colorbar": {
              "outlinewidth": 0,
              "ticks": ""
             }
            },
            "type": "scatterpolar"
           }
          ],
          "scatterpolargl": [
           {
            "marker": {
             "colorbar": {
              "outlinewidth": 0,
              "ticks": ""
             }
            },
            "type": "scatterpolargl"
           }
          ],
          "scatterternary": [
           {
            "marker": {
             "colorbar": {
              "outlinewidth": 0,
              "ticks": ""
             }
            },
            "type": "scatterternary"
           }
          ],
          "surface": [
           {
            "colorbar": {
             "outlinewidth": 0,
             "ticks": ""
            },
            "colorscale": [
             [
              0,
              "#0d0887"
             ],
             [
              0.1111111111111111,
              "#46039f"
             ],
             [
              0.2222222222222222,
              "#7201a8"
             ],
             [
              0.3333333333333333,
              "#9c179e"
             ],
             [
              0.4444444444444444,
              "#bd3786"
             ],
             [
              0.5555555555555556,
              "#d8576b"
             ],
             [
              0.6666666666666666,
              "#ed7953"
             ],
             [
              0.7777777777777778,
              "#fb9f3a"
             ],
             [
              0.8888888888888888,
              "#fdca26"
             ],
             [
              1,
              "#f0f921"
             ]
            ],
            "type": "surface"
           }
          ],
          "table": [
           {
            "cells": {
             "fill": {
              "color": "#EBF0F8"
             },
             "line": {
              "color": "white"
             }
            },
            "header": {
             "fill": {
              "color": "#C8D4E3"
             },
             "line": {
              "color": "white"
             }
            },
            "type": "table"
           }
          ]
         },
         "layout": {
          "annotationdefaults": {
           "arrowcolor": "#2a3f5f",
           "arrowhead": 0,
           "arrowwidth": 1
          },
          "autotypenumbers": "strict",
          "coloraxis": {
           "colorbar": {
            "outlinewidth": 0,
            "ticks": ""
           }
          },
          "colorscale": {
           "diverging": [
            [
             0,
             "#8e0152"
            ],
            [
             0.1,
             "#c51b7d"
            ],
            [
             0.2,
             "#de77ae"
            ],
            [
             0.3,
             "#f1b6da"
            ],
            [
             0.4,
             "#fde0ef"
            ],
            [
             0.5,
             "#f7f7f7"
            ],
            [
             0.6,
             "#e6f5d0"
            ],
            [
             0.7,
             "#b8e186"
            ],
            [
             0.8,
             "#7fbc41"
            ],
            [
             0.9,
             "#4d9221"
            ],
            [
             1,
             "#276419"
            ]
           ],
           "sequential": [
            [
             0,
             "#0d0887"
            ],
            [
             0.1111111111111111,
             "#46039f"
            ],
            [
             0.2222222222222222,
             "#7201a8"
            ],
            [
             0.3333333333333333,
             "#9c179e"
            ],
            [
             0.4444444444444444,
             "#bd3786"
            ],
            [
             0.5555555555555556,
             "#d8576b"
            ],
            [
             0.6666666666666666,
             "#ed7953"
            ],
            [
             0.7777777777777778,
             "#fb9f3a"
            ],
            [
             0.8888888888888888,
             "#fdca26"
            ],
            [
             1,
             "#f0f921"
            ]
           ],
           "sequentialminus": [
            [
             0,
             "#0d0887"
            ],
            [
             0.1111111111111111,
             "#46039f"
            ],
            [
             0.2222222222222222,
             "#7201a8"
            ],
            [
             0.3333333333333333,
             "#9c179e"
            ],
            [
             0.4444444444444444,
             "#bd3786"
            ],
            [
             0.5555555555555556,
             "#d8576b"
            ],
            [
             0.6666666666666666,
             "#ed7953"
            ],
            [
             0.7777777777777778,
             "#fb9f3a"
            ],
            [
             0.8888888888888888,
             "#fdca26"
            ],
            [
             1,
             "#f0f921"
            ]
           ]
          },
          "colorway": [
           "#636efa",
           "#EF553B",
           "#00cc96",
           "#ab63fa",
           "#FFA15A",
           "#19d3f3",
           "#FF6692",
           "#B6E880",
           "#FF97FF",
           "#FECB52"
          ],
          "font": {
           "color": "#2a3f5f"
          },
          "geo": {
           "bgcolor": "white",
           "lakecolor": "white",
           "landcolor": "#E5ECF6",
           "showlakes": true,
           "showland": true,
           "subunitcolor": "white"
          },
          "hoverlabel": {
           "align": "left"
          },
          "hovermode": "closest",
          "mapbox": {
           "style": "light"
          },
          "paper_bgcolor": "white",
          "plot_bgcolor": "#E5ECF6",
          "polar": {
           "angularaxis": {
            "gridcolor": "white",
            "linecolor": "white",
            "ticks": ""
           },
           "bgcolor": "#E5ECF6",
           "radialaxis": {
            "gridcolor": "white",
            "linecolor": "white",
            "ticks": ""
           }
          },
          "scene": {
           "xaxis": {
            "backgroundcolor": "#E5ECF6",
            "gridcolor": "white",
            "gridwidth": 2,
            "linecolor": "white",
            "showbackground": true,
            "ticks": "",
            "zerolinecolor": "white"
           },
           "yaxis": {
            "backgroundcolor": "#E5ECF6",
            "gridcolor": "white",
            "gridwidth": 2,
            "linecolor": "white",
            "showbackground": true,
            "ticks": "",
            "zerolinecolor": "white"
           },
           "zaxis": {
            "backgroundcolor": "#E5ECF6",
            "gridcolor": "white",
            "gridwidth": 2,
            "linecolor": "white",
            "showbackground": true,
            "ticks": "",
            "zerolinecolor": "white"
           }
          },
          "shapedefaults": {
           "line": {
            "color": "#2a3f5f"
           }
          },
          "ternary": {
           "aaxis": {
            "gridcolor": "white",
            "linecolor": "white",
            "ticks": ""
           },
           "baxis": {
            "gridcolor": "white",
            "linecolor": "white",
            "ticks": ""
           },
           "bgcolor": "#E5ECF6",
           "caxis": {
            "gridcolor": "white",
            "linecolor": "white",
            "ticks": ""
           }
          },
          "title": {
           "x": 0.05
          },
          "xaxis": {
           "automargin": true,
           "gridcolor": "white",
           "linecolor": "white",
           "ticks": "",
           "title": {
            "standoff": 15
           },
           "zerolinecolor": "white",
           "zerolinewidth": 2
          },
          "yaxis": {
           "automargin": true,
           "gridcolor": "white",
           "linecolor": "white",
           "ticks": "",
           "title": {
            "standoff": 15
           },
           "zerolinecolor": "white",
           "zerolinewidth": 2
          }
         }
        },
        "width": 600,
        "xaxis": {
         "anchor": "y",
         "domain": [
          0,
          1
         ],
         "range": [
          0,
          0.25
         ],
         "title": {
          "text": "goal per shot"
         }
        },
        "yaxis": {
         "anchor": "x",
         "domain": [
          0,
          1
         ],
         "range": [
          0,
          0.25
         ],
         "title": {
          "text": "xG"
         }
        }
       }
      }
     },
     "metadata": {},
     "output_type": "display_data"
    }
   ],
   "source": [
    "t_df = df1.reset_index()\n",
    "fig = px.scatter(data_frame=df1.reset_index(), y=\"xG\", x=\"goal per shot\", custom_data='player_id', width=600, height=500)\n",
    "fig.update_xaxes(range=[0, 0.25])\n",
    "fig.update_yaxes(range=[0, 0.25])\n",
    "fig.add_trace(go.Scatter(x=[0,0.5], y=[0,0.5]))\n",
    "fig.update_layout(showlegend=False)\n",
    "fig.update_traces(hovertemplate = \"player : %{customdata} <br>\" + \n",
    "                  '<br>' + \n",
    "                  'xG : %{y} <br>' + \n",
    "                  'G/Shot : %{x}')\n",
    "fig.show()"
   ]
  },
  {
   "cell_type": "code",
   "execution_count": 470,
   "metadata": {},
   "outputs": [
    {
     "data": {
      "application/vnd.plotly.v1+json": {
       "config": {
        "plotlyServerURL": "https://plot.ly"
       },
       "data": [
        {
         "customdata": [
          [
           "Alexis Alejandro Sánchez Sánchez"
          ],
          [
           "Andrés Iniesta Luján"
          ],
          [
           "Anthony Modeste"
          ],
          [
           "Antoine Griezmann"
          ],
          [
           "Aritz Aduriz Zubeldia"
          ],
          [
           "Bojan Krkíc Pérez"
          ],
          [
           "Christian Dannemann Eriksen"
          ],
          [
           "Cristiano Ronaldo dos Santos Aveiro"
          ],
          [
           "Daniel Alves da Silva"
          ],
          [
           "David Villa Sánchez"
          ],
          [
           "Fabio Quagliarella"
          ],
          [
           "Francesc Fàbregas i Soler"
          ],
          [
           "Franco Damián Vázquez"
          ],
          [
           "Gareth Frank Bale"
          ],
          [
           "Gerard Piqué Bernabéu"
          ],
          [
           "Giacomo Bonaventura"
          ],
          [
           "Gnégnéri Yaya Touré"
          ],
          [
           "Gonzalo Gerardo Higuaín"
          ],
          [
           "Harry Kane"
          ],
          [
           "Iago Aspas Juncal"
          ],
          [
           "Ivan Rakitić"
          ],
          [
           "Jamie Vardy"
          ],
          [
           "Karim Benzema"
          ],
          [
           "Lionel Andrés Messi Cuccittini"
          ],
          [
           "Lorenzo Insigne"
          ],
          [
           "Lucas Pérez Martínez"
          ],
          [
           "Luis Alberto Suárez Díaz"
          ],
          [
           "Neymar da Silva Santos Junior"
          ],
          [
           "Odion Jude Ighalo"
          ],
          [
           "Olivier Giroud"
          ],
          [
           "Ousmane Dembélé"
          ],
          [
           "Paul Pogba"
          ],
          [
           "Paulo Bruno Exequiel Dybala"
          ],
          [
           "Pedro Eliezer Rodríguez Ledesma"
          ],
          [
           "Philippe Coutinho Correia"
          ],
          [
           "Pierre-Emerick Aubameyang"
          ],
          [
           "Raúl García Escudero"
          ],
          [
           "Robert Lewandowski"
          ],
          [
           "Romelu Lukaku Menama"
          ],
          [
           "Ronaldo de Assis Moreira"
          ],
          [
           "Rubén Castro Martín"
          ],
          [
           "Samuel Eto''o Fils"
          ],
          [
           "Sergio Leonel Agüero del Castillo"
          ],
          [
           "Thierry Henry"
          ],
          [
           "Thomas Müller"
          ],
          [
           "Xavier Hernández Creus"
          ]
         ],
         "hovertemplate": "player : %{customdata} <br><br>xG : %{x:.3f} <br>G/Shot : %{y:.3f}",
         "legendgroup": "",
         "marker": {
          "color": "#636efa",
          "symbol": "circle"
         },
         "mode": "markers",
         "name": "",
         "orientation": "v",
         "showlegend": false,
         "type": "scatter",
         "x": [
          -0.04403869947367592,
          0.0202026070166791,
          -0.0005139969333538275,
          -0.04556742767571803,
          -0.016290947774950687,
          -0.06264341595077313,
          -0.003284707461219581,
          -0.026815012121374396,
          -0.012014107403401891,
          -0.054730811351638334,
          0.032689042956571004,
          -0.0387406524444526,
          0.014852948888658804,
          -0.1049195877581989,
          0.03887257365939703,
          0.021444647496296473,
          -0.0029935984650974468,
          -0.05824276116146804,
          -0.030942030593817532,
          -0.021007471163584368,
          -0.03908811270105912,
          -0.048552368736484997,
          -0.014657596699215097,
          -0.0749061470086809,
          -0.01850358862799345,
          -0.04574064710911144,
          -0.0554363801899658,
          -0.026395625308345355,
          0.02386697771271748,
          -0.003940161819212223,
          -0.04774645449640964,
          0.00910404155893177,
          -0.07228385965982469,
          -0.03580232895428359,
          0.010327122417761361,
          -0.014121608639479422,
          0.01914208088117851,
          -0.030915396962026276,
          0.011888183727407242,
          -0.07365992193485908,
          -0.08349222378755417,
          -0.045650977865912934,
          -0.06331283681579641,
          -0.06055738624361985,
          -0.04570981538930077,
          -0.02666249555632838
         ],
         "xaxis": "x",
         "y": [
          0.18340611353711792,
          0.06720430107526881,
          0.13513513513513514,
          0.18220338983050846,
          0.16923076923076924,
          0.18705035971223022,
          0.058823529411764705,
          0.13569321533923304,
          0.06465517241379311,
          0.1683673469387755,
          0.07920792079207921,
          0.15527950310559005,
          0.07758620689655173,
          0.2072072072072072,
          0.13736263736263737,
          0.05660377358490566,
          0.07964601769911504,
          0.19387755102040816,
          0.15723270440251572,
          0.16666666666666666,
          0.12264150943396226,
          0.2033898305084746,
          0.19745222929936307,
          0.20118343195266272,
          0.08888888888888889,
          0.17592592592592593,
          0.22077922077922077,
          0.17663817663817663,
          0.14285714285714285,
          0.1553398058252427,
          0.15841584158415842,
          0.06349206349206349,
          0.17757009345794392,
          0.17665615141955837,
          0.07792207792207792,
          0.21367521367521367,
          0.07563025210084033,
          0.19736842105263158,
          0.15517241379310345,
          0.15,
          0.21311475409836064,
          0.21710526315789475,
          0.20714285714285716,
          0.17166212534059946,
          0.20588235294117646,
          0.11392405063291139
         ],
         "yaxis": "y"
        },
        {
         "hovertemplate": "player : %{customdata} <br><br>xG : %{x:.3f} <br>G/Shot : %{y:.3f}",
         "type": "scatter",
         "x": [
          0,
          0
         ],
         "y": [
          0,
          0.35
         ]
        }
       ],
       "layout": {
        "height": 500,
        "hoverlabel": {
         "bgcolor": "white",
         "font": {
          "color": "black",
          "family": "Rockwell",
          "size": 10
         }
        },
        "legend": {
         "tracegroupgap": 0
        },
        "margin": {
         "t": 60
        },
        "showlegend": false,
        "template": {
         "data": {
          "bar": [
           {
            "error_x": {
             "color": "#2a3f5f"
            },
            "error_y": {
             "color": "#2a3f5f"
            },
            "marker": {
             "line": {
              "color": "#E5ECF6",
              "width": 0.5
             },
             "pattern": {
              "fillmode": "overlay",
              "size": 10,
              "solidity": 0.2
             }
            },
            "type": "bar"
           }
          ],
          "barpolar": [
           {
            "marker": {
             "line": {
              "color": "#E5ECF6",
              "width": 0.5
             },
             "pattern": {
              "fillmode": "overlay",
              "size": 10,
              "solidity": 0.2
             }
            },
            "type": "barpolar"
           }
          ],
          "carpet": [
           {
            "aaxis": {
             "endlinecolor": "#2a3f5f",
             "gridcolor": "white",
             "linecolor": "white",
             "minorgridcolor": "white",
             "startlinecolor": "#2a3f5f"
            },
            "baxis": {
             "endlinecolor": "#2a3f5f",
             "gridcolor": "white",
             "linecolor": "white",
             "minorgridcolor": "white",
             "startlinecolor": "#2a3f5f"
            },
            "type": "carpet"
           }
          ],
          "choropleth": [
           {
            "colorbar": {
             "outlinewidth": 0,
             "ticks": ""
            },
            "type": "choropleth"
           }
          ],
          "contour": [
           {
            "colorbar": {
             "outlinewidth": 0,
             "ticks": ""
            },
            "colorscale": [
             [
              0,
              "#0d0887"
             ],
             [
              0.1111111111111111,
              "#46039f"
             ],
             [
              0.2222222222222222,
              "#7201a8"
             ],
             [
              0.3333333333333333,
              "#9c179e"
             ],
             [
              0.4444444444444444,
              "#bd3786"
             ],
             [
              0.5555555555555556,
              "#d8576b"
             ],
             [
              0.6666666666666666,
              "#ed7953"
             ],
             [
              0.7777777777777778,
              "#fb9f3a"
             ],
             [
              0.8888888888888888,
              "#fdca26"
             ],
             [
              1,
              "#f0f921"
             ]
            ],
            "type": "contour"
           }
          ],
          "contourcarpet": [
           {
            "colorbar": {
             "outlinewidth": 0,
             "ticks": ""
            },
            "type": "contourcarpet"
           }
          ],
          "heatmap": [
           {
            "colorbar": {
             "outlinewidth": 0,
             "ticks": ""
            },
            "colorscale": [
             [
              0,
              "#0d0887"
             ],
             [
              0.1111111111111111,
              "#46039f"
             ],
             [
              0.2222222222222222,
              "#7201a8"
             ],
             [
              0.3333333333333333,
              "#9c179e"
             ],
             [
              0.4444444444444444,
              "#bd3786"
             ],
             [
              0.5555555555555556,
              "#d8576b"
             ],
             [
              0.6666666666666666,
              "#ed7953"
             ],
             [
              0.7777777777777778,
              "#fb9f3a"
             ],
             [
              0.8888888888888888,
              "#fdca26"
             ],
             [
              1,
              "#f0f921"
             ]
            ],
            "type": "heatmap"
           }
          ],
          "heatmapgl": [
           {
            "colorbar": {
             "outlinewidth": 0,
             "ticks": ""
            },
            "colorscale": [
             [
              0,
              "#0d0887"
             ],
             [
              0.1111111111111111,
              "#46039f"
             ],
             [
              0.2222222222222222,
              "#7201a8"
             ],
             [
              0.3333333333333333,
              "#9c179e"
             ],
             [
              0.4444444444444444,
              "#bd3786"
             ],
             [
              0.5555555555555556,
              "#d8576b"
             ],
             [
              0.6666666666666666,
              "#ed7953"
             ],
             [
              0.7777777777777778,
              "#fb9f3a"
             ],
             [
              0.8888888888888888,
              "#fdca26"
             ],
             [
              1,
              "#f0f921"
             ]
            ],
            "type": "heatmapgl"
           }
          ],
          "histogram": [
           {
            "marker": {
             "pattern": {
              "fillmode": "overlay",
              "size": 10,
              "solidity": 0.2
             }
            },
            "type": "histogram"
           }
          ],
          "histogram2d": [
           {
            "colorbar": {
             "outlinewidth": 0,
             "ticks": ""
            },
            "colorscale": [
             [
              0,
              "#0d0887"
             ],
             [
              0.1111111111111111,
              "#46039f"
             ],
             [
              0.2222222222222222,
              "#7201a8"
             ],
             [
              0.3333333333333333,
              "#9c179e"
             ],
             [
              0.4444444444444444,
              "#bd3786"
             ],
             [
              0.5555555555555556,
              "#d8576b"
             ],
             [
              0.6666666666666666,
              "#ed7953"
             ],
             [
              0.7777777777777778,
              "#fb9f3a"
             ],
             [
              0.8888888888888888,
              "#fdca26"
             ],
             [
              1,
              "#f0f921"
             ]
            ],
            "type": "histogram2d"
           }
          ],
          "histogram2dcontour": [
           {
            "colorbar": {
             "outlinewidth": 0,
             "ticks": ""
            },
            "colorscale": [
             [
              0,
              "#0d0887"
             ],
             [
              0.1111111111111111,
              "#46039f"
             ],
             [
              0.2222222222222222,
              "#7201a8"
             ],
             [
              0.3333333333333333,
              "#9c179e"
             ],
             [
              0.4444444444444444,
              "#bd3786"
             ],
             [
              0.5555555555555556,
              "#d8576b"
             ],
             [
              0.6666666666666666,
              "#ed7953"
             ],
             [
              0.7777777777777778,
              "#fb9f3a"
             ],
             [
              0.8888888888888888,
              "#fdca26"
             ],
             [
              1,
              "#f0f921"
             ]
            ],
            "type": "histogram2dcontour"
           }
          ],
          "mesh3d": [
           {
            "colorbar": {
             "outlinewidth": 0,
             "ticks": ""
            },
            "type": "mesh3d"
           }
          ],
          "parcoords": [
           {
            "line": {
             "colorbar": {
              "outlinewidth": 0,
              "ticks": ""
             }
            },
            "type": "parcoords"
           }
          ],
          "pie": [
           {
            "automargin": true,
            "type": "pie"
           }
          ],
          "scatter": [
           {
            "fillpattern": {
             "fillmode": "overlay",
             "size": 10,
             "solidity": 0.2
            },
            "type": "scatter"
           }
          ],
          "scatter3d": [
           {
            "line": {
             "colorbar": {
              "outlinewidth": 0,
              "ticks": ""
             }
            },
            "marker": {
             "colorbar": {
              "outlinewidth": 0,
              "ticks": ""
             }
            },
            "type": "scatter3d"
           }
          ],
          "scattercarpet": [
           {
            "marker": {
             "colorbar": {
              "outlinewidth": 0,
              "ticks": ""
             }
            },
            "type": "scattercarpet"
           }
          ],
          "scattergeo": [
           {
            "marker": {
             "colorbar": {
              "outlinewidth": 0,
              "ticks": ""
             }
            },
            "type": "scattergeo"
           }
          ],
          "scattergl": [
           {
            "marker": {
             "colorbar": {
              "outlinewidth": 0,
              "ticks": ""
             }
            },
            "type": "scattergl"
           }
          ],
          "scattermapbox": [
           {
            "marker": {
             "colorbar": {
              "outlinewidth": 0,
              "ticks": ""
             }
            },
            "type": "scattermapbox"
           }
          ],
          "scatterpolar": [
           {
            "marker": {
             "colorbar": {
              "outlinewidth": 0,
              "ticks": ""
             }
            },
            "type": "scatterpolar"
           }
          ],
          "scatterpolargl": [
           {
            "marker": {
             "colorbar": {
              "outlinewidth": 0,
              "ticks": ""
             }
            },
            "type": "scatterpolargl"
           }
          ],
          "scatterternary": [
           {
            "marker": {
             "colorbar": {
              "outlinewidth": 0,
              "ticks": ""
             }
            },
            "type": "scatterternary"
           }
          ],
          "surface": [
           {
            "colorbar": {
             "outlinewidth": 0,
             "ticks": ""
            },
            "colorscale": [
             [
              0,
              "#0d0887"
             ],
             [
              0.1111111111111111,
              "#46039f"
             ],
             [
              0.2222222222222222,
              "#7201a8"
             ],
             [
              0.3333333333333333,
              "#9c179e"
             ],
             [
              0.4444444444444444,
              "#bd3786"
             ],
             [
              0.5555555555555556,
              "#d8576b"
             ],
             [
              0.6666666666666666,
              "#ed7953"
             ],
             [
              0.7777777777777778,
              "#fb9f3a"
             ],
             [
              0.8888888888888888,
              "#fdca26"
             ],
             [
              1,
              "#f0f921"
             ]
            ],
            "type": "surface"
           }
          ],
          "table": [
           {
            "cells": {
             "fill": {
              "color": "#EBF0F8"
             },
             "line": {
              "color": "white"
             }
            },
            "header": {
             "fill": {
              "color": "#C8D4E3"
             },
             "line": {
              "color": "white"
             }
            },
            "type": "table"
           }
          ]
         },
         "layout": {
          "annotationdefaults": {
           "arrowcolor": "#2a3f5f",
           "arrowhead": 0,
           "arrowwidth": 1
          },
          "autotypenumbers": "strict",
          "coloraxis": {
           "colorbar": {
            "outlinewidth": 0,
            "ticks": ""
           }
          },
          "colorscale": {
           "diverging": [
            [
             0,
             "#8e0152"
            ],
            [
             0.1,
             "#c51b7d"
            ],
            [
             0.2,
             "#de77ae"
            ],
            [
             0.3,
             "#f1b6da"
            ],
            [
             0.4,
             "#fde0ef"
            ],
            [
             0.5,
             "#f7f7f7"
            ],
            [
             0.6,
             "#e6f5d0"
            ],
            [
             0.7,
             "#b8e186"
            ],
            [
             0.8,
             "#7fbc41"
            ],
            [
             0.9,
             "#4d9221"
            ],
            [
             1,
             "#276419"
            ]
           ],
           "sequential": [
            [
             0,
             "#0d0887"
            ],
            [
             0.1111111111111111,
             "#46039f"
            ],
            [
             0.2222222222222222,
             "#7201a8"
            ],
            [
             0.3333333333333333,
             "#9c179e"
            ],
            [
             0.4444444444444444,
             "#bd3786"
            ],
            [
             0.5555555555555556,
             "#d8576b"
            ],
            [
             0.6666666666666666,
             "#ed7953"
            ],
            [
             0.7777777777777778,
             "#fb9f3a"
            ],
            [
             0.8888888888888888,
             "#fdca26"
            ],
            [
             1,
             "#f0f921"
            ]
           ],
           "sequentialminus": [
            [
             0,
             "#0d0887"
            ],
            [
             0.1111111111111111,
             "#46039f"
            ],
            [
             0.2222222222222222,
             "#7201a8"
            ],
            [
             0.3333333333333333,
             "#9c179e"
            ],
            [
             0.4444444444444444,
             "#bd3786"
            ],
            [
             0.5555555555555556,
             "#d8576b"
            ],
            [
             0.6666666666666666,
             "#ed7953"
            ],
            [
             0.7777777777777778,
             "#fb9f3a"
            ],
            [
             0.8888888888888888,
             "#fdca26"
            ],
            [
             1,
             "#f0f921"
            ]
           ]
          },
          "colorway": [
           "#636efa",
           "#EF553B",
           "#00cc96",
           "#ab63fa",
           "#FFA15A",
           "#19d3f3",
           "#FF6692",
           "#B6E880",
           "#FF97FF",
           "#FECB52"
          ],
          "font": {
           "color": "#2a3f5f"
          },
          "geo": {
           "bgcolor": "white",
           "lakecolor": "white",
           "landcolor": "#E5ECF6",
           "showlakes": true,
           "showland": true,
           "subunitcolor": "white"
          },
          "hoverlabel": {
           "align": "left"
          },
          "hovermode": "closest",
          "mapbox": {
           "style": "light"
          },
          "paper_bgcolor": "white",
          "plot_bgcolor": "#E5ECF6",
          "polar": {
           "angularaxis": {
            "gridcolor": "white",
            "linecolor": "white",
            "ticks": ""
           },
           "bgcolor": "#E5ECF6",
           "radialaxis": {
            "gridcolor": "white",
            "linecolor": "white",
            "ticks": ""
           }
          },
          "scene": {
           "xaxis": {
            "backgroundcolor": "#E5ECF6",
            "gridcolor": "white",
            "gridwidth": 2,
            "linecolor": "white",
            "showbackground": true,
            "ticks": "",
            "zerolinecolor": "white"
           },
           "yaxis": {
            "backgroundcolor": "#E5ECF6",
            "gridcolor": "white",
            "gridwidth": 2,
            "linecolor": "white",
            "showbackground": true,
            "ticks": "",
            "zerolinecolor": "white"
           },
           "zaxis": {
            "backgroundcolor": "#E5ECF6",
            "gridcolor": "white",
            "gridwidth": 2,
            "linecolor": "white",
            "showbackground": true,
            "ticks": "",
            "zerolinecolor": "white"
           }
          },
          "shapedefaults": {
           "line": {
            "color": "#2a3f5f"
           }
          },
          "ternary": {
           "aaxis": {
            "gridcolor": "white",
            "linecolor": "white",
            "ticks": ""
           },
           "baxis": {
            "gridcolor": "white",
            "linecolor": "white",
            "ticks": ""
           },
           "bgcolor": "#E5ECF6",
           "caxis": {
            "gridcolor": "white",
            "linecolor": "white",
            "ticks": ""
           }
          },
          "title": {
           "x": 0.05
          },
          "xaxis": {
           "automargin": true,
           "gridcolor": "white",
           "linecolor": "white",
           "ticks": "",
           "title": {
            "standoff": 15
           },
           "zerolinecolor": "white",
           "zerolinewidth": 2
          },
          "yaxis": {
           "automargin": true,
           "gridcolor": "white",
           "linecolor": "white",
           "ticks": "",
           "title": {
            "standoff": 15
           },
           "zerolinecolor": "white",
           "zerolinewidth": 2
          }
         }
        },
        "width": 800,
        "xaxis": {
         "anchor": "y",
         "domain": [
          0,
          1
         ],
         "range": [
          -0.15,
          0.15
         ],
         "showspikes": true,
         "spikecolor": "gray",
         "spikesnap": "cursor",
         "spikethickness": 1,
         "title": {
          "text": "xG margin"
         }
        },
        "yaxis": {
         "anchor": "x",
         "domain": [
          0,
          1
         ],
         "range": [
          0,
          0.25
         ],
         "showspikes": true,
         "spikecolor": "gray",
         "spikethickness": 1,
         "title": {
          "text": "GCR(Goal Conversion Rate)"
         }
        }
       }
      }
     },
     "metadata": {},
     "output_type": "display_data"
    }
   ],
   "source": [
    "t_df = df1.reset_index()\n",
    "t_df['xG margin'] =  t_df['xG'] - t_df['goal per shot']\n",
    "fig = px.scatter(data_frame=t_df, x=\"xG margin\", y=\"goal per shot\", custom_data='player_id', width=800, height=500, \n",
    "                 )\n",
    "fig.update_xaxes(range=[-0.15, 0.15], title_text='xG margin')\n",
    "fig.update_yaxes(range=[0, 0.25], title_text='GCR(Goal Conversion Rate)')\n",
    "fig.add_trace(go.Scatter(x=[0,0], y=[0,0.35]))\n",
    "fig.update_layout(showlegend=False)\n",
    "fig.update_traces(hovertemplate = \"player : %{customdata} <br>\" + \n",
    "                  '<br>' + \n",
    "                  'xG : %{x:.3f} <br>' + \n",
    "                  'G/Shot : %{y:.3f}')\n",
    "fig.update_layout(hoverlabel_bgcolor=\"white\",\n",
    "                  hoverlabel_font_size=10,\n",
    "                  hoverlabel_font_color='black',\n",
    "                  hoverlabel_font_family=\"Rockwell\")\n",
    "fig.update_xaxes(showspikes=True, spikecolor=\"gray\", spikesnap=\"cursor\", spikethickness=1)\n",
    "fig.update_yaxes(showspikes=True, spikecolor=\"gray\", spikethickness=1)\n",
    "fig.show()"
   ]
  },
  {
   "cell_type": "code",
   "execution_count": null,
   "metadata": {},
   "outputs": [],
   "source": []
  },
  {
   "cell_type": "markdown",
   "metadata": {},
   "source": []
  }
 ],
 "metadata": {
  "kernelspec": {
   "display_name": "Python 3",
   "language": "python",
   "name": "python3"
  },
  "language_info": {
   "codemirror_mode": {
    "name": "ipython",
    "version": 3
   },
   "file_extension": ".py",
   "mimetype": "text/x-python",
   "name": "python",
   "nbconvert_exporter": "python",
   "pygments_lexer": "ipython3",
   "version": "3.11.2"
  },
  "orig_nbformat": 4,
  "vscode": {
   "interpreter": {
    "hash": "aee8b7b246df8f9039afb4144a1f6fd8d2ca17a180786b69acc140d282b71a49"
   }
  }
 },
 "nbformat": 4,
 "nbformat_minor": 2
}
